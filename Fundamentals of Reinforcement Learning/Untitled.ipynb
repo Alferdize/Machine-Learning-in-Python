{
 "cells": [
  {
   "cell_type": "code",
   "execution_count": 3,
   "metadata": {},
   "outputs": [
    {
     "ename": "ModuleNotFoundError",
     "evalue": "No module named 'rlglue.rl_glue'",
     "output_type": "error",
     "traceback": [
      "\u001b[1;31m---------------------------------------------------------------------------\u001b[0m",
      "\u001b[1;31mModuleNotFoundError\u001b[0m                       Traceback (most recent call last)",
      "\u001b[1;32m<ipython-input-3-c951a4fba31e>\u001b[0m in \u001b[0;36m<module>\u001b[1;34m\u001b[0m\n\u001b[0;32m      5\u001b[0m \u001b[1;32mimport\u001b[0m \u001b[0mtime\u001b[0m\u001b[1;33m\u001b[0m\u001b[0m\n\u001b[0;32m      6\u001b[0m \u001b[1;33m\u001b[0m\u001b[0m\n\u001b[1;32m----> 7\u001b[1;33m \u001b[1;32mfrom\u001b[0m \u001b[0mrlglue\u001b[0m\u001b[1;33m.\u001b[0m\u001b[0mrl_glue\u001b[0m \u001b[1;32mimport\u001b[0m \u001b[0mRLGlue\u001b[0m\u001b[1;33m\u001b[0m\u001b[0m\n\u001b[0m\u001b[0;32m      8\u001b[0m \u001b[1;32mimport\u001b[0m \u001b[0mmain_agent\u001b[0m\u001b[1;33m\u001b[0m\u001b[0m\n\u001b[0;32m      9\u001b[0m \u001b[1;32mimport\u001b[0m \u001b[0mten_arm_env\u001b[0m\u001b[1;33m\u001b[0m\u001b[0m\n",
      "\u001b[1;31mModuleNotFoundError\u001b[0m: No module named 'rlglue.rl_glue'"
     ]
    }
   ],
   "source": [
    "%matplotlib inline\n",
    "import numpy as np\n",
    "import matplotlib.pyplot as plt\n",
    "from tqdm import tqdm\n",
    "import time\n",
    "\n",
    "from rlglue.rl_glue import RLGlue\n",
    "import main_agent\n",
    "import ten_arm_env\n",
    "import test_env\n",
    "\n",
    "import grader"
   ]
  },
  {
   "cell_type": "code",
   "execution_count": 2,
   "metadata": {},
   "outputs": [
    {
     "name": "stdout",
     "output_type": "stream",
     "text": [
      "Collecting rlglue\n",
      "  Downloading rlglue-2.02.tar.gz (10 kB)\n",
      "Building wheels for collected packages: rlglue\n",
      "  Building wheel for rlglue (setup.py): started\n",
      "  Building wheel for rlglue (setup.py): finished with status 'done'\n",
      "  Created wheel for rlglue: filename=rlglue-2.2-py3-none-any.whl size=20508 sha256=6bac4074067f6ab492ae495a4ef1375ed01d3f878067c3fdd2e57fe22c5207e4\n",
      "  Stored in directory: c:\\users\\simon\\appdata\\local\\pip\\cache\\wheels\\c4\\89\\63\\3049dd80f52de80d14e7c3b5cc525fde0e50faff349e6ed93e\n",
      "Successfully built rlglue\n",
      "Installing collected packages: rlglue\n",
      "Successfully installed rlglue-2.2\n"
     ]
    }
   ],
   "source": [
    "!pip install rlglue"
   ]
  },
  {
   "cell_type": "code",
   "execution_count": null,
   "metadata": {},
   "outputs": [],
   "source": []
  }
 ],
 "metadata": {
  "kernelspec": {
   "display_name": "Python 3",
   "language": "python",
   "name": "python3"
  },
  "language_info": {
   "codemirror_mode": {
    "name": "ipython",
    "version": 3
   },
   "file_extension": ".py",
   "mimetype": "text/x-python",
   "name": "python",
   "nbconvert_exporter": "python",
   "pygments_lexer": "ipython3",
   "version": "3.6.5"
  }
 },
 "nbformat": 4,
 "nbformat_minor": 2
}
