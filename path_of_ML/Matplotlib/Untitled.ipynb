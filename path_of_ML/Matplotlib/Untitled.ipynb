{
 "cells": [
  {
   "cell_type": "code",
   "execution_count": 1,
   "metadata": {},
   "outputs": [],
   "source": [
    "import matplotlib.pyplot as plt\n",
    "import numpy as np\n",
    "import urllib\n",
    "from urllib.request import urlopen\n",
    "import matplotlib.dates as mdates\n",
    "import json\n",
    "import csv"
   ]
  },
  {
   "cell_type": "code",
   "execution_count": 2,
   "metadata": {},
   "outputs": [],
   "source": [
    "def graph_data():\n",
    "    url = \"https://financialmodelingprep.com/api/v3/historical-price-full/AAPL?apikey=demo\"\n",
    "    response = urlopen(url)\n",
    "    data = response.read().decode(\"utf-8\")\n",
    "    data=json.loads(data)\n",
    "    employee_data = data['historical']\n",
    "    data_file = open('data_file.csv', 'w')\n",
    "    csv_writer = csv.writer(data_file)\n",
    "    count = 0\n",
    "    for emp in employee_data:\n",
    "        if count == 0:\n",
    "            header = emp.keys()\n",
    "            csv_writer.writerow(header)\n",
    "            count += 1\n",
    "        csv_writer.writerow(emp.values())\n"
   ]
  },
  {
   "cell_type": "code",
   "execution_count": 3,
   "metadata": {},
   "outputs": [],
   "source": [
    "graph_data()"
   ]
  },
  {
   "cell_type": "code",
   "execution_count": 10,
   "metadata": {},
   "outputs": [],
   "source": [
    "def bytespdate2num(fmt):\n",
    "    def converter(b):\n",
    "        return mdates.strpdate2num(fmt)(b.decode('ascii'))\n",
    "    return converter\n",
    "\n",
    "def graph_data():\n",
    "\n",
    "    # Unfortunately, Yahoo's API is no longer available\n",
    "    # feel free to adapt the code to another source, or use this drop-in replacement.\n",
    "    stock_price_url = 'https://pythonprogramming.net/yahoo_finance_replacement'\n",
    "\n",
    "    source_code = urllib.request.urlopen(stock_price_url).read().decode()\n",
    "\n",
    "    stock_data = []\n",
    "    split_source = source_code.split('\\n')\n",
    "\n",
    "    for line in split_source[1:]:\n",
    "        split_line = line.split(',')\n",
    "        if len(split_line) == 7:\n",
    "            if 'values' not in line:\n",
    "                stock_data.append(line)\n",
    "    date, closep, highp, lowp, openp, adj_closep, volume = np.loadtxt(stock_data,\n",
    "                                                          delimiter=',',\n",
    "                                                          unpack=True,\n",
    "                                                          # %Y = full year. 2015\n",
    "                                                          # %y = partial year 15\n",
    "                                                          # %m = number month\n",
    "                                                          # %d = number day\n",
    "                                                          # %H = hours\n",
    "                                                          # %M = minutes\n",
    "                                                          # %S = seconds\n",
    "                                                          # 12-06-2014\n",
    "                                                          # %m-%d-%Y\n",
    "                                                          converters={0: bytespdate2num('%Y-%m-%d')})\n",
    "    \n",
    "    plt.plot(date,closep,\"-\",label=\"Price\")\n",
    "    plt.xlabel(\"x\")\n",
    "    plt.ylabel(\"y\")\n",
    "    plt.title(\"Financial Data\")\n",
    "    plt.legend()"
   ]
  },
  {
   "cell_type": "code",
   "execution_count": 11,
   "metadata": {},
   "outputs": [
    {
     "name": "stderr",
     "output_type": "stream",
     "text": [
      "/Volumes/Transcend/opt/anaconda3/lib/python3.7/site-packages/ipykernel_launcher.py:3: MatplotlibDeprecationWarning: \n",
      "The strpdate2num class was deprecated in Matplotlib 3.1 and will be removed in 3.3. Use time.strptime or dateutil.parser.parse or datestr2num instead.\n",
      "  This is separate from the ipykernel package so we can avoid doing imports until\n",
      "No handles with labels found to put in legend.\n"
     ]
    },
    {
     "data": {
      "image/png": "[encoded data removed]",
      "text/plain": [
       "<Figure size 432x288 with 1 Axes>"
      ]
     },
     "metadata": {
      "needs_background": "light"
     },
     "output_type": "display_data"
    }
   ],
   "source": [
    "graph_data()\n"
   ]
  },
  {
   "cell_type": "code",
   "execution_count": null,
   "metadata": {},
   "outputs": [],
   "source": []
  }
 ],
 "metadata": {
  "kernelspec": {
   "display_name": "Python 3",
   "language": "python",
   "name": "python3"
  },
  "language_info": {
   "codemirror_mode": {
    "name": "ipython",
    "version": 3
   },
   "file_extension": ".py",
   "mimetype": "text/x-python",
   "name": "python",
   "nbconvert_exporter": "python",
   "pygments_lexer": "ipython3",
   "version": "3.7.6"
  }
 },
 "nbformat": 4,
 "nbformat_minor": 2
}
