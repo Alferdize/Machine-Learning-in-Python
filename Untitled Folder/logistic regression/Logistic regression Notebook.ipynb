{
 "cells": [
  {
   "cell_type": "markdown",
   "metadata": {
    "colab_type": "text",
    "id": "XHyuIcRGixQy"
   },
   "source": [
    "# Logistic Regression"
   ]
  },
  {
   "cell_type": "markdown",
   "metadata": {
    "colab_type": "text",
    "id": "MetALTTmQKkh"
   },
   "source": [
    "### Importing Libraries"
   ]
  },
  {
   "cell_type": "code",
   "execution_count": 1,
   "metadata": {
    "colab": {},
    "colab_type": "code",
    "id": "eWchGPfa9xW9"
   },
   "outputs": [],
   "source": [
    "#importing libraries \n",
    "import pandas as pd \n",
    "import numpy as np\n",
    "import matplotlib.pyplot as plt"
   ]
  },
  {
   "cell_type": "markdown",
   "metadata": {
    "colab_type": "text",
    "id": "tHKgifnpjyvh"
   },
   "source": [
    "### Importing the data"
   ]
  },
  {
   "cell_type": "code",
   "execution_count": 6,
   "metadata": {
    "colab": {
     "base_uri": "https://localhost:8080/",
     "height": 226
    },
    "colab_type": "code",
    "executionInfo": {
     "elapsed": 3051,
     "status": "ok",
     "timestamp": 1559907752330,
     "user": {
      "displayName": "Aishwarya Singh",
      "photoUrl": "https://lh5.googleusercontent.com/-72ZtNB76Qxg/AAAAAAAAAAI/AAAAAAAAAAc/Nsa5vQruND0/s64/photo.jpg",
      "userId": "01105858832371513140"
     },
     "user_tz": -330
    },
    "id": "NB5xYyHg9xXA",
    "outputId": "7eaac4d1-42cd-4178-96e1-e9ccabc75020"
   },
   "outputs": [
    {
     "data": {
      "text/html": [
       "<div>\n",
       "<style scoped>\n",
       "    .dataframe tbody tr th:only-of-type {\n",
       "        vertical-align: middle;\n",
       "    }\n",
       "\n",
       "    .dataframe tbody tr th {\n",
       "        vertical-align: top;\n",
       "    }\n",
       "\n",
       "    .dataframe thead th {\n",
       "        text-align: right;\n",
       "    }\n",
       "</style>\n",
       "<table border=\"1\" class=\"dataframe\">\n",
       "  <thead>\n",
       "    <tr style=\"text-align: right;\">\n",
       "      <th></th>\n",
       "      <th>Survived</th>\n",
       "      <th>Age</th>\n",
       "      <th>Fare</th>\n",
       "      <th>Pclass_1</th>\n",
       "      <th>Pclass_2</th>\n",
       "      <th>Pclass_3</th>\n",
       "      <th>Sex_female</th>\n",
       "      <th>Sex_male</th>\n",
       "      <th>SibSp_0</th>\n",
       "      <th>SibSp_1</th>\n",
       "      <th>...</th>\n",
       "      <th>Parch_0</th>\n",
       "      <th>Parch_1</th>\n",
       "      <th>Parch_2</th>\n",
       "      <th>Parch_3</th>\n",
       "      <th>Parch_4</th>\n",
       "      <th>Parch_5</th>\n",
       "      <th>Parch_6</th>\n",
       "      <th>Embarked_C</th>\n",
       "      <th>Embarked_Q</th>\n",
       "      <th>Embarked_S</th>\n",
       "    </tr>\n",
       "  </thead>\n",
       "  <tbody>\n",
       "    <tr>\n",
       "      <td>0</td>\n",
       "      <td>0</td>\n",
       "      <td>22.0</td>\n",
       "      <td>7.2500</td>\n",
       "      <td>0</td>\n",
       "      <td>0</td>\n",
       "      <td>1</td>\n",
       "      <td>0</td>\n",
       "      <td>1</td>\n",
       "      <td>0</td>\n",
       "      <td>1</td>\n",
       "      <td>...</td>\n",
       "      <td>1</td>\n",
       "      <td>0</td>\n",
       "      <td>0</td>\n",
       "      <td>0</td>\n",
       "      <td>0</td>\n",
       "      <td>0</td>\n",
       "      <td>0</td>\n",
       "      <td>0</td>\n",
       "      <td>0</td>\n",
       "      <td>1</td>\n",
       "    </tr>\n",
       "    <tr>\n",
       "      <td>1</td>\n",
       "      <td>1</td>\n",
       "      <td>38.0</td>\n",
       "      <td>71.2833</td>\n",
       "      <td>1</td>\n",
       "      <td>0</td>\n",
       "      <td>0</td>\n",
       "      <td>1</td>\n",
       "      <td>0</td>\n",
       "      <td>0</td>\n",
       "      <td>1</td>\n",
       "      <td>...</td>\n",
       "      <td>1</td>\n",
       "      <td>0</td>\n",
       "      <td>0</td>\n",
       "      <td>0</td>\n",
       "      <td>0</td>\n",
       "      <td>0</td>\n",
       "      <td>0</td>\n",
       "      <td>1</td>\n",
       "      <td>0</td>\n",
       "      <td>0</td>\n",
       "    </tr>\n",
       "    <tr>\n",
       "      <td>2</td>\n",
       "      <td>1</td>\n",
       "      <td>26.0</td>\n",
       "      <td>7.9250</td>\n",
       "      <td>0</td>\n",
       "      <td>0</td>\n",
       "      <td>1</td>\n",
       "      <td>1</td>\n",
       "      <td>0</td>\n",
       "      <td>1</td>\n",
       "      <td>0</td>\n",
       "      <td>...</td>\n",
       "      <td>1</td>\n",
       "      <td>0</td>\n",
       "      <td>0</td>\n",
       "      <td>0</td>\n",
       "      <td>0</td>\n",
       "      <td>0</td>\n",
       "      <td>0</td>\n",
       "      <td>0</td>\n",
       "      <td>0</td>\n",
       "      <td>1</td>\n",
       "    </tr>\n",
       "    <tr>\n",
       "      <td>3</td>\n",
       "      <td>1</td>\n",
       "      <td>35.0</td>\n",
       "      <td>53.1000</td>\n",
       "      <td>1</td>\n",
       "      <td>0</td>\n",
       "      <td>0</td>\n",
       "      <td>1</td>\n",
       "      <td>0</td>\n",
       "      <td>0</td>\n",
       "      <td>1</td>\n",
       "      <td>...</td>\n",
       "      <td>1</td>\n",
       "      <td>0</td>\n",
       "      <td>0</td>\n",
       "      <td>0</td>\n",
       "      <td>0</td>\n",
       "      <td>0</td>\n",
       "      <td>0</td>\n",
       "      <td>0</td>\n",
       "      <td>0</td>\n",
       "      <td>1</td>\n",
       "    </tr>\n",
       "    <tr>\n",
       "      <td>4</td>\n",
       "      <td>0</td>\n",
       "      <td>35.0</td>\n",
       "      <td>8.0500</td>\n",
       "      <td>0</td>\n",
       "      <td>0</td>\n",
       "      <td>1</td>\n",
       "      <td>0</td>\n",
       "      <td>1</td>\n",
       "      <td>1</td>\n",
       "      <td>0</td>\n",
       "      <td>...</td>\n",
       "      <td>1</td>\n",
       "      <td>0</td>\n",
       "      <td>0</td>\n",
       "      <td>0</td>\n",
       "      <td>0</td>\n",
       "      <td>0</td>\n",
       "      <td>0</td>\n",
       "      <td>0</td>\n",
       "      <td>0</td>\n",
       "      <td>1</td>\n",
       "    </tr>\n",
       "  </tbody>\n",
       "</table>\n",
       "<p>5 rows × 25 columns</p>\n",
       "</div>"
      ],
      "text/plain": [
       "   Survived   Age     Fare  Pclass_1  Pclass_2  Pclass_3  Sex_female  \\\n",
       "0         0  22.0   7.2500         0         0         1           0   \n",
       "1         1  38.0  71.2833         1         0         0           1   \n",
       "2         1  26.0   7.9250         0         0         1           1   \n",
       "3         1  35.0  53.1000         1         0         0           1   \n",
       "4         0  35.0   8.0500         0         0         1           0   \n",
       "\n",
       "   Sex_male  SibSp_0  SibSp_1  ...  Parch_0  Parch_1  Parch_2  Parch_3  \\\n",
       "0         1        0        1  ...        1        0        0        0   \n",
       "1         0        0        1  ...        1        0        0        0   \n",
       "2         0        1        0  ...        1        0        0        0   \n",
       "3         0        0        1  ...        1        0        0        0   \n",
       "4         1        1        0  ...        1        0        0        0   \n",
       "\n",
       "   Parch_4  Parch_5  Parch_6  Embarked_C  Embarked_Q  Embarked_S  \n",
       "0        0        0        0           0           0           1  \n",
       "1        0        0        0           1           0           0  \n",
       "2        0        0        0           0           0           1  \n",
       "3        0        0        0           0           0           1  \n",
       "4        0        0        0           0           0           1  \n",
       "\n",
       "[5 rows x 25 columns]"
      ]
     },
     "execution_count": 6,
     "metadata": {},
     "output_type": "execute_result"
    }
   ],
   "source": [
    "data = pd.read_csv('data_cleaned.csv')\n",
    "data.head()"
   ]
  },
  {
   "cell_type": "markdown",
   "metadata": {
    "colab_type": "text",
    "id": "hGxgnJmxj3nv"
   },
   "source": [
    "### Segregating variables: Independent and Dependent Variables"
   ]
  },
  {
   "cell_type": "code",
   "execution_count": 7,
   "metadata": {
    "colab": {
     "base_uri": "https://localhost:8080/",
     "height": 34
    },
    "colab_type": "code",
    "executionInfo": {
     "elapsed": 2634,
     "status": "ok",
     "timestamp": 1559907752332,
     "user": {
      "displayName": "Aishwarya Singh",
      "photoUrl": "https://lh5.googleusercontent.com/-72ZtNB76Qxg/AAAAAAAAAAI/AAAAAAAAAAc/Nsa5vQruND0/s64/photo.jpg",
      "userId": "01105858832371513140"
     },
     "user_tz": -330
    },
    "id": "rym4fnPq9xXG",
    "outputId": "103a10b9-f5d8-4ae3-e3a1-c42a9a1a42f2"
   },
   "outputs": [
    {
     "data": {
      "text/plain": [
       "((891, 24), (891,))"
      ]
     },
     "execution_count": 7,
     "metadata": {},
     "output_type": "execute_result"
    }
   ],
   "source": [
    "#seperating independent and dependent variables\n",
    "x = data.drop(['Survived'], axis=1)\n",
    "y = data['Survived']\n",
    "x.shape, y.shape"
   ]
  },
  {
   "cell_type": "markdown",
   "metadata": {
    "colab_type": "text",
    "id": "pAQY_EKnGpZ3"
   },
   "source": [
    "### Splitting the data into train set and the test set"
   ]
  },
  {
   "cell_type": "code",
   "execution_count": 8,
   "metadata": {
    "colab": {},
    "colab_type": "code",
    "id": "-PcDK1re9xXM"
   },
   "outputs": [],
   "source": [
    "# Importing the train test split function\n",
    "from sklearn.model_selection import train_test_split\n",
    "train_x,test_x,train_y,test_y = train_test_split(x,y, random_state = 56)"
   ]
  },
  {
   "cell_type": "markdown",
   "metadata": {
    "colab_type": "text",
    "id": "Fl_ddY0xgfl5"
   },
   "source": [
    "### Normalising using *min_max_scaler*"
   ]
  },
  {
   "cell_type": "code",
   "execution_count": 9,
   "metadata": {
    "colab": {},
    "colab_type": "code",
    "id": "Tsoh_kCkgfmQ"
   },
   "outputs": [],
   "source": [
    "from sklearn.preprocessing import MinMaxScaler\n",
    "scaler = MinMaxScaler()"
   ]
  },
  {
   "cell_type": "code",
   "execution_count": 10,
   "metadata": {
    "colab": {
     "base_uri": "https://localhost:8080/",
     "height": 121
    },
    "colab_type": "code",
    "executionInfo": {
     "elapsed": 2846,
     "status": "ok",
     "timestamp": 1559907753469,
     "user": {
      "displayName": "Aishwarya Singh",
      "photoUrl": "https://lh5.googleusercontent.com/-72ZtNB76Qxg/AAAAAAAAAAI/AAAAAAAAAAc/Nsa5vQruND0/s64/photo.jpg",
      "userId": "01105858832371513140"
     },
     "user_tz": -330
    },
    "id": "-OpAcJQ7gfmj",
    "outputId": "d06ed210-cafc-41ee-f6fd-ace7e7f90710"
   },
   "outputs": [
    {
     "data": {
      "text/plain": [
       "Index(['Age', 'Fare', 'Pclass_1', 'Pclass_2', 'Pclass_3', 'Sex_female',\n",
       "       'Sex_male', 'SibSp_0', 'SibSp_1', 'SibSp_2', 'SibSp_3', 'SibSp_4',\n",
       "       'SibSp_5', 'SibSp_8', 'Parch_0', 'Parch_1', 'Parch_2', 'Parch_3',\n",
       "       'Parch_4', 'Parch_5', 'Parch_6', 'Embarked_C', 'Embarked_Q',\n",
       "       'Embarked_S'],\n",
       "      dtype='object')"
      ]
     },
     "execution_count": 10,
     "metadata": {},
     "output_type": "execute_result"
    }
   ],
   "source": [
    "cols = train_x.columns\n",
    "cols"
   ]
  },
  {
   "cell_type": "code",
   "execution_count": 11,
   "metadata": {
    "colab": {
     "base_uri": "https://localhost:8080/",
     "height": 226
    },
    "colab_type": "code",
    "executionInfo": {
     "elapsed": 2623,
     "status": "ok",
     "timestamp": 1559907753472,
     "user": {
      "displayName": "Aishwarya Singh",
      "photoUrl": "https://lh5.googleusercontent.com/-72ZtNB76Qxg/AAAAAAAAAAI/AAAAAAAAAAc/Nsa5vQruND0/s64/photo.jpg",
      "userId": "01105858832371513140"
     },
     "user_tz": -330
    },
    "id": "TqAHX6eYgfmy",
    "outputId": "eea41bdb-e250-4d8b-d72b-ac15b7322d04"
   },
   "outputs": [
    {
     "data": {
      "text/html": [
       "<div>\n",
       "<style scoped>\n",
       "    .dataframe tbody tr th:only-of-type {\n",
       "        vertical-align: middle;\n",
       "    }\n",
       "\n",
       "    .dataframe tbody tr th {\n",
       "        vertical-align: top;\n",
       "    }\n",
       "\n",
       "    .dataframe thead th {\n",
       "        text-align: right;\n",
       "    }\n",
       "</style>\n",
       "<table border=\"1\" class=\"dataframe\">\n",
       "  <thead>\n",
       "    <tr style=\"text-align: right;\">\n",
       "      <th></th>\n",
       "      <th>Age</th>\n",
       "      <th>Fare</th>\n",
       "      <th>Pclass_1</th>\n",
       "      <th>Pclass_2</th>\n",
       "      <th>Pclass_3</th>\n",
       "      <th>Sex_female</th>\n",
       "      <th>Sex_male</th>\n",
       "      <th>SibSp_0</th>\n",
       "      <th>SibSp_1</th>\n",
       "      <th>SibSp_2</th>\n",
       "      <th>...</th>\n",
       "      <th>Parch_0</th>\n",
       "      <th>Parch_1</th>\n",
       "      <th>Parch_2</th>\n",
       "      <th>Parch_3</th>\n",
       "      <th>Parch_4</th>\n",
       "      <th>Parch_5</th>\n",
       "      <th>Parch_6</th>\n",
       "      <th>Embarked_C</th>\n",
       "      <th>Embarked_Q</th>\n",
       "      <th>Embarked_S</th>\n",
       "    </tr>\n",
       "  </thead>\n",
       "  <tbody>\n",
       "    <tr>\n",
       "      <td>0</td>\n",
       "      <td>0.371701</td>\n",
       "      <td>0.024350</td>\n",
       "      <td>0.0</td>\n",
       "      <td>0.0</td>\n",
       "      <td>1.0</td>\n",
       "      <td>1.0</td>\n",
       "      <td>0.0</td>\n",
       "      <td>1.0</td>\n",
       "      <td>0.0</td>\n",
       "      <td>0.0</td>\n",
       "      <td>...</td>\n",
       "      <td>1.0</td>\n",
       "      <td>0.0</td>\n",
       "      <td>0.0</td>\n",
       "      <td>0.0</td>\n",
       "      <td>0.0</td>\n",
       "      <td>0.0</td>\n",
       "      <td>0.0</td>\n",
       "      <td>0.0</td>\n",
       "      <td>0.0</td>\n",
       "      <td>1.0</td>\n",
       "    </tr>\n",
       "    <tr>\n",
       "      <td>1</td>\n",
       "      <td>0.334004</td>\n",
       "      <td>0.016908</td>\n",
       "      <td>0.0</td>\n",
       "      <td>0.0</td>\n",
       "      <td>1.0</td>\n",
       "      <td>0.0</td>\n",
       "      <td>1.0</td>\n",
       "      <td>1.0</td>\n",
       "      <td>0.0</td>\n",
       "      <td>0.0</td>\n",
       "      <td>...</td>\n",
       "      <td>1.0</td>\n",
       "      <td>0.0</td>\n",
       "      <td>0.0</td>\n",
       "      <td>0.0</td>\n",
       "      <td>0.0</td>\n",
       "      <td>0.0</td>\n",
       "      <td>0.0</td>\n",
       "      <td>0.0</td>\n",
       "      <td>0.0</td>\n",
       "      <td>1.0</td>\n",
       "    </tr>\n",
       "    <tr>\n",
       "      <td>2</td>\n",
       "      <td>0.396833</td>\n",
       "      <td>0.015127</td>\n",
       "      <td>0.0</td>\n",
       "      <td>0.0</td>\n",
       "      <td>1.0</td>\n",
       "      <td>0.0</td>\n",
       "      <td>1.0</td>\n",
       "      <td>1.0</td>\n",
       "      <td>0.0</td>\n",
       "      <td>0.0</td>\n",
       "      <td>...</td>\n",
       "      <td>1.0</td>\n",
       "      <td>0.0</td>\n",
       "      <td>0.0</td>\n",
       "      <td>0.0</td>\n",
       "      <td>0.0</td>\n",
       "      <td>0.0</td>\n",
       "      <td>0.0</td>\n",
       "      <td>0.0</td>\n",
       "      <td>1.0</td>\n",
       "      <td>0.0</td>\n",
       "    </tr>\n",
       "    <tr>\n",
       "      <td>3</td>\n",
       "      <td>0.786378</td>\n",
       "      <td>0.152164</td>\n",
       "      <td>1.0</td>\n",
       "      <td>0.0</td>\n",
       "      <td>0.0</td>\n",
       "      <td>1.0</td>\n",
       "      <td>0.0</td>\n",
       "      <td>0.0</td>\n",
       "      <td>1.0</td>\n",
       "      <td>0.0</td>\n",
       "      <td>...</td>\n",
       "      <td>1.0</td>\n",
       "      <td>0.0</td>\n",
       "      <td>0.0</td>\n",
       "      <td>0.0</td>\n",
       "      <td>0.0</td>\n",
       "      <td>0.0</td>\n",
       "      <td>0.0</td>\n",
       "      <td>0.0</td>\n",
       "      <td>0.0</td>\n",
       "      <td>1.0</td>\n",
       "    </tr>\n",
       "    <tr>\n",
       "      <td>4</td>\n",
       "      <td>0.334004</td>\n",
       "      <td>0.412821</td>\n",
       "      <td>1.0</td>\n",
       "      <td>0.0</td>\n",
       "      <td>0.0</td>\n",
       "      <td>0.0</td>\n",
       "      <td>1.0</td>\n",
       "      <td>1.0</td>\n",
       "      <td>0.0</td>\n",
       "      <td>0.0</td>\n",
       "      <td>...</td>\n",
       "      <td>0.0</td>\n",
       "      <td>0.0</td>\n",
       "      <td>1.0</td>\n",
       "      <td>0.0</td>\n",
       "      <td>0.0</td>\n",
       "      <td>0.0</td>\n",
       "      <td>0.0</td>\n",
       "      <td>1.0</td>\n",
       "      <td>0.0</td>\n",
       "      <td>0.0</td>\n",
       "    </tr>\n",
       "  </tbody>\n",
       "</table>\n",
       "<p>5 rows × 24 columns</p>\n",
       "</div>"
      ],
      "text/plain": [
       "        Age      Fare  Pclass_1  Pclass_2  Pclass_3  Sex_female  Sex_male  \\\n",
       "0  0.371701  0.024350       0.0       0.0       1.0         1.0       0.0   \n",
       "1  0.334004  0.016908       0.0       0.0       1.0         0.0       1.0   \n",
       "2  0.396833  0.015127       0.0       0.0       1.0         0.0       1.0   \n",
       "3  0.786378  0.152164       1.0       0.0       0.0         1.0       0.0   \n",
       "4  0.334004  0.412821       1.0       0.0       0.0         0.0       1.0   \n",
       "\n",
       "   SibSp_0  SibSp_1  SibSp_2  ...  Parch_0  Parch_1  Parch_2  Parch_3  \\\n",
       "0      1.0      0.0      0.0  ...      1.0      0.0      0.0      0.0   \n",
       "1      1.0      0.0      0.0  ...      1.0      0.0      0.0      0.0   \n",
       "2      1.0      0.0      0.0  ...      1.0      0.0      0.0      0.0   \n",
       "3      0.0      1.0      0.0  ...      1.0      0.0      0.0      0.0   \n",
       "4      1.0      0.0      0.0  ...      0.0      0.0      1.0      0.0   \n",
       "\n",
       "   Parch_4  Parch_5  Parch_6  Embarked_C  Embarked_Q  Embarked_S  \n",
       "0      0.0      0.0      0.0         0.0         0.0         1.0  \n",
       "1      0.0      0.0      0.0         0.0         0.0         1.0  \n",
       "2      0.0      0.0      0.0         0.0         1.0         0.0  \n",
       "3      0.0      0.0      0.0         0.0         0.0         1.0  \n",
       "4      0.0      0.0      0.0         1.0         0.0         0.0  \n",
       "\n",
       "[5 rows x 24 columns]"
      ]
     },
     "execution_count": 11,
     "metadata": {},
     "output_type": "execute_result"
    }
   ],
   "source": [
    "train_x_scaled = scaler.fit_transform(train_x)\n",
    "train_x_scaled = pd.DataFrame(train_x_scaled, columns=cols)\n",
    "train_x_scaled.head()"
   ]
  },
  {
   "cell_type": "code",
   "execution_count": 12,
   "metadata": {
    "colab": {
     "base_uri": "https://localhost:8080/",
     "height": 226
    },
    "colab_type": "code",
    "executionInfo": {
     "elapsed": 2421,
     "status": "ok",
     "timestamp": 1559907753473,
     "user": {
      "displayName": "Aishwarya Singh",
      "photoUrl": "https://lh5.googleusercontent.com/-72ZtNB76Qxg/AAAAAAAAAAI/AAAAAAAAAAc/Nsa5vQruND0/s64/photo.jpg",
      "userId": "01105858832371513140"
     },
     "user_tz": -330
    },
    "id": "p4BEqpnpgfnB",
    "outputId": "2ced4da2-ae4e-4f54-da25-269453cd9e25"
   },
   "outputs": [
    {
     "data": {
      "text/html": [
       "<div>\n",
       "<style scoped>\n",
       "    .dataframe tbody tr th:only-of-type {\n",
       "        vertical-align: middle;\n",
       "    }\n",
       "\n",
       "    .dataframe tbody tr th {\n",
       "        vertical-align: top;\n",
       "    }\n",
       "\n",
       "    .dataframe thead th {\n",
       "        text-align: right;\n",
       "    }\n",
       "</style>\n",
       "<table border=\"1\" class=\"dataframe\">\n",
       "  <thead>\n",
       "    <tr style=\"text-align: right;\">\n",
       "      <th></th>\n",
       "      <th>Age</th>\n",
       "      <th>Fare</th>\n",
       "      <th>Pclass_1</th>\n",
       "      <th>Pclass_2</th>\n",
       "      <th>Pclass_3</th>\n",
       "      <th>Sex_female</th>\n",
       "      <th>Sex_male</th>\n",
       "      <th>SibSp_0</th>\n",
       "      <th>SibSp_1</th>\n",
       "      <th>SibSp_2</th>\n",
       "      <th>...</th>\n",
       "      <th>Parch_0</th>\n",
       "      <th>Parch_1</th>\n",
       "      <th>Parch_2</th>\n",
       "      <th>Parch_3</th>\n",
       "      <th>Parch_4</th>\n",
       "      <th>Parch_5</th>\n",
       "      <th>Parch_6</th>\n",
       "      <th>Embarked_C</th>\n",
       "      <th>Embarked_Q</th>\n",
       "      <th>Embarked_S</th>\n",
       "    </tr>\n",
       "  </thead>\n",
       "  <tbody>\n",
       "    <tr>\n",
       "      <td>0</td>\n",
       "      <td>0.396833</td>\n",
       "      <td>0.143462</td>\n",
       "      <td>0.0</td>\n",
       "      <td>1.0</td>\n",
       "      <td>0.0</td>\n",
       "      <td>0.0</td>\n",
       "      <td>1.0</td>\n",
       "      <td>0.0</td>\n",
       "      <td>0.0</td>\n",
       "      <td>1.0</td>\n",
       "      <td>...</td>\n",
       "      <td>1.0</td>\n",
       "      <td>0.0</td>\n",
       "      <td>0.0</td>\n",
       "      <td>0.0</td>\n",
       "      <td>0.0</td>\n",
       "      <td>0.0</td>\n",
       "      <td>0.0</td>\n",
       "      <td>0.0</td>\n",
       "      <td>0.0</td>\n",
       "      <td>1.0</td>\n",
       "    </tr>\n",
       "    <tr>\n",
       "      <td>1</td>\n",
       "      <td>0.359135</td>\n",
       "      <td>0.129995</td>\n",
       "      <td>1.0</td>\n",
       "      <td>0.0</td>\n",
       "      <td>0.0</td>\n",
       "      <td>0.0</td>\n",
       "      <td>1.0</td>\n",
       "      <td>0.0</td>\n",
       "      <td>1.0</td>\n",
       "      <td>0.0</td>\n",
       "      <td>...</td>\n",
       "      <td>1.0</td>\n",
       "      <td>0.0</td>\n",
       "      <td>0.0</td>\n",
       "      <td>0.0</td>\n",
       "      <td>0.0</td>\n",
       "      <td>0.0</td>\n",
       "      <td>0.0</td>\n",
       "      <td>0.0</td>\n",
       "      <td>0.0</td>\n",
       "      <td>1.0</td>\n",
       "    </tr>\n",
       "    <tr>\n",
       "      <td>2</td>\n",
       "      <td>0.367921</td>\n",
       "      <td>0.014110</td>\n",
       "      <td>0.0</td>\n",
       "      <td>0.0</td>\n",
       "      <td>1.0</td>\n",
       "      <td>0.0</td>\n",
       "      <td>1.0</td>\n",
       "      <td>1.0</td>\n",
       "      <td>0.0</td>\n",
       "      <td>0.0</td>\n",
       "      <td>...</td>\n",
       "      <td>1.0</td>\n",
       "      <td>0.0</td>\n",
       "      <td>0.0</td>\n",
       "      <td>0.0</td>\n",
       "      <td>0.0</td>\n",
       "      <td>0.0</td>\n",
       "      <td>0.0</td>\n",
       "      <td>1.0</td>\n",
       "      <td>0.0</td>\n",
       "      <td>0.0</td>\n",
       "    </tr>\n",
       "    <tr>\n",
       "      <td>3</td>\n",
       "      <td>0.346569</td>\n",
       "      <td>0.025374</td>\n",
       "      <td>0.0</td>\n",
       "      <td>1.0</td>\n",
       "      <td>0.0</td>\n",
       "      <td>1.0</td>\n",
       "      <td>0.0</td>\n",
       "      <td>1.0</td>\n",
       "      <td>0.0</td>\n",
       "      <td>0.0</td>\n",
       "      <td>...</td>\n",
       "      <td>1.0</td>\n",
       "      <td>0.0</td>\n",
       "      <td>0.0</td>\n",
       "      <td>0.0</td>\n",
       "      <td>0.0</td>\n",
       "      <td>0.0</td>\n",
       "      <td>0.0</td>\n",
       "      <td>0.0</td>\n",
       "      <td>0.0</td>\n",
       "      <td>1.0</td>\n",
       "    </tr>\n",
       "    <tr>\n",
       "      <td>4</td>\n",
       "      <td>0.371701</td>\n",
       "      <td>0.054164</td>\n",
       "      <td>1.0</td>\n",
       "      <td>0.0</td>\n",
       "      <td>0.0</td>\n",
       "      <td>0.0</td>\n",
       "      <td>1.0</td>\n",
       "      <td>1.0</td>\n",
       "      <td>0.0</td>\n",
       "      <td>0.0</td>\n",
       "      <td>...</td>\n",
       "      <td>1.0</td>\n",
       "      <td>0.0</td>\n",
       "      <td>0.0</td>\n",
       "      <td>0.0</td>\n",
       "      <td>0.0</td>\n",
       "      <td>0.0</td>\n",
       "      <td>0.0</td>\n",
       "      <td>1.0</td>\n",
       "      <td>0.0</td>\n",
       "      <td>0.0</td>\n",
       "    </tr>\n",
       "  </tbody>\n",
       "</table>\n",
       "<p>5 rows × 24 columns</p>\n",
       "</div>"
      ],
      "text/plain": [
       "        Age      Fare  Pclass_1  Pclass_2  Pclass_3  Sex_female  Sex_male  \\\n",
       "0  0.396833  0.143462       0.0       1.0       0.0         0.0       1.0   \n",
       "1  0.359135  0.129995       1.0       0.0       0.0         0.0       1.0   \n",
       "2  0.367921  0.014110       0.0       0.0       1.0         0.0       1.0   \n",
       "3  0.346569  0.025374       0.0       1.0       0.0         1.0       0.0   \n",
       "4  0.371701  0.054164       1.0       0.0       0.0         0.0       1.0   \n",
       "\n",
       "   SibSp_0  SibSp_1  SibSp_2  ...  Parch_0  Parch_1  Parch_2  Parch_3  \\\n",
       "0      0.0      0.0      1.0  ...      1.0      0.0      0.0      0.0   \n",
       "1      0.0      1.0      0.0  ...      1.0      0.0      0.0      0.0   \n",
       "2      1.0      0.0      0.0  ...      1.0      0.0      0.0      0.0   \n",
       "3      1.0      0.0      0.0  ...      1.0      0.0      0.0      0.0   \n",
       "4      1.0      0.0      0.0  ...      1.0      0.0      0.0      0.0   \n",
       "\n",
       "   Parch_4  Parch_5  Parch_6  Embarked_C  Embarked_Q  Embarked_S  \n",
       "0      0.0      0.0      0.0         0.0         0.0         1.0  \n",
       "1      0.0      0.0      0.0         0.0         0.0         1.0  \n",
       "2      0.0      0.0      0.0         1.0         0.0         0.0  \n",
       "3      0.0      0.0      0.0         0.0         0.0         1.0  \n",
       "4      0.0      0.0      0.0         1.0         0.0         0.0  \n",
       "\n",
       "[5 rows x 24 columns]"
      ]
     },
     "execution_count": 12,
     "metadata": {},
     "output_type": "execute_result"
    }
   ],
   "source": [
    "test_x_scaled = scaler.transform(test_x)\n",
    "test_x_scaled = pd.DataFrame(test_x_scaled, columns=cols)\n",
    "test_x_scaled.head()"
   ]
  },
  {
   "cell_type": "markdown",
   "metadata": {
    "colab_type": "text",
    "id": "WvsDKzjdyNWi"
   },
   "source": [
    "### Implementing Logistic Regression"
   ]
  },
  {
   "cell_type": "code",
   "execution_count": 13,
   "metadata": {
    "colab": {},
    "colab_type": "code",
    "id": "yCG2gM5KyM-1"
   },
   "outputs": [],
   "source": [
    "#importing Logistic Regression and metric F1-score\n",
    "from sklearn.linear_model import LogisticRegression as LogReg\n",
    "from sklearn.metrics import f1_score"
   ]
  },
  {
   "cell_type": "code",
   "execution_count": 14,
   "metadata": {
    "colab": {
     "base_uri": "https://localhost:8080/",
     "height": 159
    },
    "colab_type": "code",
    "executionInfo": {
     "elapsed": 2906,
     "status": "ok",
     "timestamp": 1559907754529,
     "user": {
      "displayName": "Aishwarya Singh",
      "photoUrl": "https://lh5.googleusercontent.com/-72ZtNB76Qxg/AAAAAAAAAAI/AAAAAAAAAAc/Nsa5vQruND0/s64/photo.jpg",
      "userId": "01105858832371513140"
     },
     "user_tz": -330
    },
    "id": "TFrwDTRdybYF",
    "outputId": "be6a8867-192c-445b-a4ef-6ef855d43c89"
   },
   "outputs": [
    {
     "name": "stderr",
     "output_type": "stream",
     "text": [
      "c:\\python\\lib\\site-packages\\sklearn\\linear_model\\_logistic.py:939: ConvergenceWarning: lbfgs failed to converge (status=1):\n",
      "STOP: TOTAL NO. of ITERATIONS REACHED LIMIT.\n",
      "\n",
      "Increase the number of iterations (max_iter) or scale the data as shown in:\n",
      "    https://scikit-learn.org/stable/modules/preprocessing.html.\n",
      "Please also refer to the documentation for alternative solver options:\n",
      "    https://scikit-learn.org/stable/modules/linear_model.html#logistic-regression\n",
      "  extra_warning_msg=_LOGISTIC_SOLVER_CONVERGENCE_MSG)\n"
     ]
    },
    {
     "data": {
      "text/plain": [
       "LogisticRegression(C=1.0, class_weight=None, dual=False, fit_intercept=True,\n",
       "                   intercept_scaling=1, l1_ratio=None, max_iter=100,\n",
       "                   multi_class='auto', n_jobs=None, penalty='l2',\n",
       "                   random_state=None, solver='lbfgs', tol=0.0001, verbose=0,\n",
       "                   warm_start=False)"
      ]
     },
     "execution_count": 14,
     "metadata": {},
     "output_type": "execute_result"
    }
   ],
   "source": [
    "# Creating instance of Logistic Regresssion\n",
    "logreg = LogReg()\n",
    "\n",
    "# Fitting the model\n",
    "logreg.fit(train_x, train_y)"
   ]
  },
  {
   "cell_type": "markdown",
   "metadata": {
    "colab_type": "text",
    "id": "ll87PoJuPI4n"
   },
   "source": [
    "### Making predictions using *predict* function"
   ]
  },
  {
   "cell_type": "code",
   "execution_count": 15,
   "metadata": {
    "colab": {
     "base_uri": "https://localhost:8080/",
     "height": 555
    },
    "colab_type": "code",
    "executionInfo": {
     "elapsed": 2419,
     "status": "ok",
     "timestamp": 1559907754532,
     "user": {
      "displayName": "Aishwarya Singh",
      "photoUrl": "https://lh5.googleusercontent.com/-72ZtNB76Qxg/AAAAAAAAAAI/AAAAAAAAAAc/Nsa5vQruND0/s64/photo.jpg",
      "userId": "01105858832371513140"
     },
     "user_tz": -330
    },
    "id": "8lCGfbmBI-kj",
    "outputId": "4947b5a9-9709-4629-f85a-d018c369aa1e"
   },
   "outputs": [
    {
     "data": {
      "text/plain": [
       "array([0, 0, 0, 1, 1, 0, 1, 1, 1, 0, 0, 0, 0, 0, 1, 0, 0, 0, 0, 0, 0, 0,\n",
       "       0, 1, 0, 1, 0, 1, 1, 0, 1, 0, 1, 0, 0, 1, 0, 0, 0, 0, 1, 0, 0, 1,\n",
       "       0, 1, 0, 0, 0, 1, 0, 1, 0, 1, 0, 1, 1, 0, 0, 0, 1, 0, 0, 0, 0, 1,\n",
       "       0, 0, 1, 1, 1, 1, 1, 0, 1, 0, 1, 1, 1, 0, 1, 0, 0, 0, 1, 1, 1, 0,\n",
       "       0, 1, 0, 0, 0, 0, 0, 1, 0, 0, 1, 1, 0, 0, 0, 0, 0, 0, 0, 0, 1, 0,\n",
       "       0, 0, 0, 0, 1, 0, 0, 1, 0, 0, 0, 0, 0, 0, 1, 0, 0, 1, 0, 1, 0, 0,\n",
       "       0, 1, 0, 0, 0, 0, 0, 1, 1, 0, 1, 0, 0, 0, 0, 1, 1, 1, 1, 0, 1, 0,\n",
       "       0, 0, 0, 0, 0, 1, 0, 0, 0, 1, 0, 0, 0, 1, 0, 1, 0, 1, 1, 0, 0, 0,\n",
       "       1, 0, 0, 0, 0, 0, 0, 0, 1, 0, 1, 0, 0, 0, 0, 0, 1, 0, 0, 0, 0, 1,\n",
       "       1, 0, 0, 0, 1, 0, 0, 1, 1, 0, 1, 0, 1, 1, 0, 0, 1, 0, 0, 1, 1, 0,\n",
       "       0, 0, 0, 1, 0, 0, 0, 1, 0, 0, 1, 0, 0, 0, 0, 1, 0, 1, 0, 0, 0, 0,\n",
       "       0, 0, 1, 0, 1, 0, 1, 0, 1, 0, 1, 1, 1, 0, 0, 0, 0, 0, 0, 1, 0, 0,\n",
       "       1, 0, 1, 0, 0, 0, 1, 0, 1, 1, 0, 0, 0, 0, 0, 0, 0, 0, 1, 0, 0, 0,\n",
       "       0, 1, 0, 1, 1, 1, 1, 0, 0, 1, 0, 0, 1, 0, 1, 0, 0, 0, 0, 0, 0, 0,\n",
       "       0, 1, 1, 0, 0, 0, 0, 0, 0, 0, 0, 1, 0, 0, 1, 1, 0, 0, 1, 0, 0, 0,\n",
       "       0, 0, 0, 0, 0, 0, 0, 0, 1, 0, 0, 1, 0, 0, 0, 0, 1, 0, 0, 0, 0, 0,\n",
       "       1, 0, 0, 1, 0, 0, 0, 0, 1, 1, 0, 0, 0, 1, 0, 0, 1, 1, 1, 1, 0, 1,\n",
       "       0, 0, 0, 0, 1, 1, 0, 1, 0, 0, 0, 1, 0, 0, 0, 1, 0, 0, 1, 0, 0, 1,\n",
       "       1, 0, 0, 1, 1, 1, 1, 1, 0, 0, 0, 0, 1, 0, 0, 1, 0, 0, 0, 0, 1, 1,\n",
       "       1, 1, 0, 1, 1, 0, 1, 0, 1, 0, 0, 0, 1, 1, 0, 0, 0, 1, 0, 0, 1, 0,\n",
       "       0, 0, 1, 0, 1, 1, 1, 1, 1, 1, 1, 0, 0, 0, 0, 1, 0, 0, 0, 0, 0, 0,\n",
       "       1, 1, 1, 0, 0, 1, 0, 1, 1, 1, 1, 1, 0, 0, 1, 0, 0, 1, 1, 1, 0, 0,\n",
       "       1, 0, 0, 0, 1, 0, 0, 0, 1, 1, 0, 1, 1, 0, 0, 0, 0, 0, 0, 1, 0, 0,\n",
       "       1, 0, 0, 0, 1, 0, 1, 0, 0, 0, 0, 0, 0, 0, 0, 1, 0, 1, 1, 0, 0, 1,\n",
       "       0, 0, 0, 1, 0, 0, 0, 0, 1, 0, 0, 0, 1, 0, 1, 1, 0, 0, 1, 1, 0, 0,\n",
       "       0, 0, 0, 1, 0, 1, 0, 0, 0, 1, 1, 0, 0, 0, 1, 0, 1, 1, 1, 1, 0, 1,\n",
       "       0, 1, 0, 0, 0, 0, 0, 1, 0, 0, 1, 0, 0, 0, 1, 0, 0, 0, 1, 1, 0, 0,\n",
       "       1, 1, 0, 0, 0, 0, 1, 0, 1, 0, 1, 1, 0, 0, 0, 0, 0, 0, 1, 0, 1, 1,\n",
       "       0, 0, 0, 1, 0, 1, 0, 0, 0, 1, 0, 1, 1, 0, 0, 0, 0, 0, 0, 0, 0, 1,\n",
       "       1, 1, 0, 0, 0, 1, 0, 0, 1, 1, 0, 1, 1, 0, 1, 1, 1, 0, 1, 1, 0, 0,\n",
       "       1, 0, 0, 0, 1, 1, 1, 1], dtype=int64)"
      ]
     },
     "execution_count": 15,
     "metadata": {},
     "output_type": "execute_result"
    }
   ],
   "source": [
    "# Predicting over the Train\n",
    "train_predict = logreg.predict(train_x)\n",
    "train_predict"
   ]
  },
  {
   "cell_type": "code",
   "execution_count": 16,
   "metadata": {
    "colab": {
     "base_uri": "https://localhost:8080/",
     "height": 34
    },
    "colab_type": "code",
    "executionInfo": {
     "elapsed": 2258,
     "status": "ok",
     "timestamp": 1559907754533,
     "user": {
      "displayName": "Aishwarya Singh",
      "photoUrl": "https://lh5.googleusercontent.com/-72ZtNB76Qxg/AAAAAAAAAAI/AAAAAAAAAAc/Nsa5vQruND0/s64/photo.jpg",
      "userId": "01105858832371513140"
     },
     "user_tz": -330
    },
    "id": "7zgQQS_abvKE",
    "outputId": "9c38b16d-544e-446e-f7f4-dd11003824be"
   },
   "outputs": [
    {
     "name": "stdout",
     "output_type": "stream",
     "text": [
      "Training f1_score 0.7514910536779325\n"
     ]
    }
   ],
   "source": [
    "# Calculating f1-score\n",
    "k = f1_score(train_predict, train_y)\n",
    "print('Training f1_score', k )"
   ]
  },
  {
   "cell_type": "code",
   "execution_count": 17,
   "metadata": {
    "colab": {
     "base_uri": "https://localhost:8080/",
     "height": 34
    },
    "colab_type": "code",
    "executionInfo": {
     "elapsed": 3721,
     "status": "ok",
     "timestamp": 1559907756193,
     "user": {
      "displayName": "Aishwarya Singh",
      "photoUrl": "https://lh5.googleusercontent.com/-72ZtNB76Qxg/AAAAAAAAAAI/AAAAAAAAAAc/Nsa5vQruND0/s64/photo.jpg",
      "userId": "01105858832371513140"
     },
     "user_tz": -330
    },
    "id": "Wf4id-DOJCsn",
    "outputId": "cfc4c660-1865-426c-d37d-6a5ae26dd8a4"
   },
   "outputs": [
    {
     "name": "stdout",
     "output_type": "stream",
     "text": [
      "Test f1_score     0.736842105263158\n"
     ]
    }
   ],
   "source": [
    "# Predicting over the Test Set and f1-score\n",
    "test_predict = logreg.predict(test_x)\n",
    "k = f1_score(test_predict, test_y)\n",
    "print('Test f1_score    ', k )"
   ]
  },
  {
   "cell_type": "markdown",
   "metadata": {
    "colab_type": "text",
    "id": "GYz-N4EVPapW"
   },
   "source": [
    "### Making predictions using *predict_proba* function"
   ]
  },
  {
   "cell_type": "code",
   "execution_count": 18,
   "metadata": {
    "colab": {
     "base_uri": "https://localhost:8080/",
     "height": 139
    },
    "colab_type": "code",
    "executionInfo": {
     "elapsed": 3219,
     "status": "ok",
     "timestamp": 1559907756195,
     "user": {
      "displayName": "Aishwarya Singh",
      "photoUrl": "https://lh5.googleusercontent.com/-72ZtNB76Qxg/AAAAAAAAAAI/AAAAAAAAAAc/Nsa5vQruND0/s64/photo.jpg",
      "userId": "01105858832371513140"
     },
     "user_tz": -330
    },
    "id": "TdyhO6NmdZ4_",
    "outputId": "1f9f1cb2-0f48-4d3f-951a-d42ee572bc44"
   },
   "outputs": [
    {
     "data": {
      "text/plain": [
       "array([[0.51819644, 0.48180356],\n",
       "       [0.90647423, 0.09352577],\n",
       "       [0.87287552, 0.12712448],\n",
       "       ...,\n",
       "       [0.22578842, 0.77421158],\n",
       "       [0.31353676, 0.68646324],\n",
       "       [0.04400072, 0.95599928]])"
      ]
     },
     "execution_count": 18,
     "metadata": {},
     "output_type": "execute_result"
    }
   ],
   "source": [
    "# Predicting over the Train\n",
    "train_predict = logreg.predict_proba(train_x)\n",
    "train_predict"
   ]
  },
  {
   "cell_type": "code",
   "execution_count": 19,
   "metadata": {
    "colab": {
     "base_uri": "https://localhost:8080/",
     "height": 2344
    },
    "colab_type": "code",
    "executionInfo": {
     "elapsed": 3055,
     "status": "ok",
     "timestamp": 1559907756198,
     "user": {
      "displayName": "Aishwarya Singh",
      "photoUrl": "https://lh5.googleusercontent.com/-72ZtNB76Qxg/AAAAAAAAAAI/AAAAAAAAAAc/Nsa5vQruND0/s64/photo.jpg",
      "userId": "01105858832371513140"
     },
     "user_tz": -330
    },
    "id": "Uan07aK5l9oT",
    "outputId": "fe421e79-fd6e-4723-9a78-97a58765e1f0"
   },
   "outputs": [
    {
     "data": {
      "text/plain": [
       "array([0.48180356, 0.09352577, 0.12712448, 0.77784265, 0.63088663,\n",
       "       0.11667106, 0.8450476 , 0.7743877 , 0.53432388, 0.08349965,\n",
       "       0.10611363, 0.08551527, 0.12419021, 0.09639683, 0.6087303 ,\n",
       "       0.08453693, 0.30814124, 0.1203298 , 0.07171207, 0.28644017,\n",
       "       0.10254962, 0.21874309, 0.07147787, 0.58926671, 0.09036803,\n",
       "       0.51413273, 0.08536997, 0.55761131, 0.60376488, 0.12840194,\n",
       "       0.82079653, 0.08555   , 0.58613241, 0.13649199, 0.02233747,\n",
       "       0.57583953, 0.21843294, 0.12587793, 0.05872441, 0.28523118,\n",
       "       0.84179199, 0.39190498, 0.20349708, 0.70681958, 0.48079505,\n",
       "       0.9430637 , 0.37034006, 0.22158228, 0.16774093, 0.89283028,\n",
       "       0.13262442, 0.63971267, 0.23883584, 0.61065672, 0.34130842,\n",
       "       0.64622123, 0.77931387, 0.29254762, 0.10932336, 0.29924188,\n",
       "       0.58444417, 0.29254762, 0.12470351, 0.4579735 , 0.10304969,\n",
       "       0.97634427, 0.11707846, 0.08551527, 0.86399678, 0.66367757,\n",
       "       0.93109255, 0.74856025, 0.8981975 , 0.44948089, 0.84178135,\n",
       "       0.24570711, 0.86549047, 0.54075806, 0.55549716, 0.12840194,\n",
       "       0.52291652, 0.1279073 , 0.13165763, 0.01893092, 0.68576968,\n",
       "       0.94690131, 0.67581975, 0.07580996, 0.27802581, 0.93200331,\n",
       "       0.29242873, 0.13649905, 0.09123261, 0.13649905, 0.20349708,\n",
       "       0.91194531, 0.34231169, 0.12419672, 0.55690388, 0.56767395,\n",
       "       0.13649905, 0.12427636, 0.09948065, 0.1281862 , 0.12608928,\n",
       "       0.05320522, 0.30386224, 0.04197177, 0.74853036, 0.30298864,\n",
       "       0.23883584, 0.43272637, 0.1258766 , 0.13673961, 0.5404899 ,\n",
       "       0.3350395 , 0.1245844 , 0.92525671, 0.11310685, 0.13649846,\n",
       "       0.4963074 , 0.46800778, 0.22467393, 0.40042479, 0.93496082,\n",
       "       0.33071312, 0.39043397, 0.61056826, 0.13649057, 0.67346864,\n",
       "       0.09016055, 0.09643551, 0.3919736 , 0.9060455 , 0.1258766 ,\n",
       "       0.02898429, 0.48184869, 0.06573514, 0.37996548, 0.90763271,\n",
       "       0.92880459, 0.13112936, 0.64295596, 0.10472165, 0.23409096,\n",
       "       0.25736974, 0.10953966, 0.9292478 , 0.86428972, 0.9057059 ,\n",
       "       0.5140818 , 0.46960271, 0.65726651, 0.07188957, 0.45343678,\n",
       "       0.08556408, 0.44666816, 0.27523549, 0.09285391, 0.80091861,\n",
       "       0.29609746, 0.27802581, 0.31619888, 0.66396669, 0.04645977,\n",
       "       0.25440877, 0.1203679 , 0.82707769, 0.34578767, 0.93786957,\n",
       "       0.05145692, 0.76169994, 0.61305071, 0.28392794, 0.32975783,\n",
       "       0.476404  , 0.50768394, 0.38128691, 0.08187295, 0.09035818,\n",
       "       0.08193468, 0.25572218, 0.04532438, 0.11545296, 0.92457996,\n",
       "       0.36828845, 0.93083262, 0.28470466, 0.2639559 , 0.16987335,\n",
       "       0.14518482, 0.05690974, 0.57224465, 0.31928613, 0.12418238,\n",
       "       0.17215088, 0.29254762, 0.90074527, 0.63842016, 0.2712923 ,\n",
       "       0.44783035, 0.40509918, 0.61056826, 0.11307075, 0.21209447,\n",
       "       0.89008541, 0.61931568, 0.08334472, 0.77387567, 0.13649905,\n",
       "       0.61202226, 0.61056826, 0.12587793, 0.15744853, 0.94479895,\n",
       "       0.08551527, 0.07430248, 0.90397041, 0.6295232 , 0.13436018,\n",
       "       0.12045176, 0.31089762, 0.08555   , 0.888893  , 0.21606172,\n",
       "       0.16331768, 0.08551527, 0.72077808, 0.46406904, 0.13946059,\n",
       "       0.72322814, 0.46484277, 0.08701415, 0.25440877, 0.16903794,\n",
       "       0.73837151, 0.37425386, 0.87114249, 0.11287598, 0.03794649,\n",
       "       0.24900257, 0.08618672, 0.21843294, 0.13223845, 0.64544526,\n",
       "       0.09639683, 0.66439612, 0.23883584, 0.53256433, 0.11726337,\n",
       "       0.92210042, 0.09714436, 0.66992674, 0.80599422, 0.95860023,\n",
       "       0.15331117, 0.37753304, 0.13271829, 0.08551527, 0.44912466,\n",
       "       0.0434275 , 0.64586685, 0.08784831, 0.12470219, 0.92703564,\n",
       "       0.32929781, 0.56392621, 0.07935298, 0.08555   , 0.08548808,\n",
       "       0.72696592, 0.13652593, 0.84363919, 0.66558646, 0.47906335,\n",
       "       0.27432274, 0.33064567, 0.07923524, 0.29582027, 0.3423848 ,\n",
       "       0.06490353, 0.11667106, 0.61055683, 0.08751816, 0.09816506,\n",
       "       0.44622342, 0.04821452, 0.85841208, 0.09331441, 0.8248709 ,\n",
       "       0.90146197, 0.5514358 , 0.9417497 , 0.09311464, 0.02961932,\n",
       "       0.94922432, 0.05685193, 0.31884118, 0.63862425, 0.11302744,\n",
       "       0.52956663, 0.4299581 , 0.24372642, 0.10678797, 0.12435472,\n",
       "       0.04185663, 0.06795647, 0.30975191, 0.09036803, 0.80169791,\n",
       "       0.61056826, 0.45226454, 0.09932599, 0.23883584, 0.08715149,\n",
       "       0.1258766 , 0.11303344, 0.18955515, 0.11672918, 0.54946447,\n",
       "       0.35519138, 0.13219759, 0.81387224, 0.94684351, 0.44356928,\n",
       "       0.31884118, 0.58818308, 0.08543744, 0.13065279, 0.25255212,\n",
       "       0.12040473, 0.13649905, 0.02233747, 0.26098475, 0.08551527,\n",
       "       0.16658291, 0.09711255, 0.23592147, 0.80682143, 0.05322335,\n",
       "       0.29106002, 0.93938984, 0.07708618, 0.06944594, 0.37325047,\n",
       "       0.41813209, 0.64126075, 0.04195722, 0.19537254, 0.49406628,\n",
       "       0.34962972, 0.12885867, 0.80175517, 0.29465461, 0.46807969,\n",
       "       0.80075564, 0.0636182 , 0.14946731, 0.12917583, 0.24774324,\n",
       "       0.89804146, 0.647361  , 0.12840194, 0.27783483, 0.46710762,\n",
       "       0.80938216, 0.18474565, 0.08555   , 0.86614249, 0.96132644,\n",
       "       0.74731947, 0.93025883, 0.20533906, 0.66439612, 0.26377106,\n",
       "       0.4218853 , 0.38643251, 0.04575844, 0.7454329 , 0.85641978,\n",
       "       0.12007519, 0.73348145, 0.46166893, 0.13649905, 0.13945951,\n",
       "       0.93587819, 0.23883584, 0.31849341, 0.30212744, 0.58152699,\n",
       "       0.41234365, 0.35749888, 0.86380901, 0.08538402, 0.08555   ,\n",
       "       0.80938216, 0.65014366, 0.06717824, 0.11310685, 0.55819395,\n",
       "       0.75575423, 0.76793484, 0.90231828, 0.50478859, 0.12634863,\n",
       "       0.11638615, 0.3909134 , 0.1023404 , 0.88325714, 0.38662206,\n",
       "       0.11151922, 0.55549716, 0.25709467, 0.11643263, 0.05686737,\n",
       "       0.46341048, 0.96529135, 0.92678834, 0.57519831, 0.8532144 ,\n",
       "       0.46581406, 0.6088541 , 0.69291391, 0.24901144, 0.80637727,\n",
       "       0.17368222, 0.94251101, 0.10610227, 0.08503966, 0.06952041,\n",
       "       0.63372473, 0.8577955 , 0.09084717, 0.06292354, 0.48754056,\n",
       "       0.61056826, 0.22651193, 0.19704873, 0.58941024, 0.22956168,\n",
       "       0.18169459, 0.07932669, 0.65307703, 0.32287782, 0.62420462,\n",
       "       0.70621922, 0.918762  , 0.83078954, 0.92996831, 0.77653226,\n",
       "       0.54224123, 0.1283178 , 0.08551527, 0.08701415, 0.15526455,\n",
       "       0.54910804, 0.13649338, 0.09389089, 0.21946722, 0.47839908,\n",
       "       0.07188957, 0.07399526, 0.88162839, 0.91392881, 0.96414341,\n",
       "       0.21121176, 0.14597392, 0.56960833, 0.26098475, 0.71335946,\n",
       "       0.74719416, 0.69402017, 0.91404467, 0.93311528, 0.08555   ,\n",
       "       0.45730724, 0.79830269, 0.23722155, 0.18474565, 0.61083353,\n",
       "       0.5842489 , 0.61088371, 0.09016055, 0.24301191, 0.89451208,\n",
       "       0.14216111, 0.42785948, 0.39699915, 0.65505547, 0.08696327,\n",
       "       0.10943438, 0.1592652 , 0.72136285, 0.73034718, 0.40901403,\n",
       "       0.8983311 , 0.57078064, 0.2238993 , 0.07932669, 0.07932669,\n",
       "       0.07931181, 0.44666816, 0.11618938, 0.87418659, 0.08196717,\n",
       "       0.06505149, 0.86423721, 0.2613423 , 0.04193705, 0.1204848 ,\n",
       "       0.63437858, 0.13649905, 0.92810934, 0.32518445, 0.25440877,\n",
       "       0.13223845, 0.10935842, 0.08356011, 0.11801762, 0.27802581,\n",
       "       0.41607984, 0.75733051, 0.02233747, 0.52276445, 0.94809123,\n",
       "       0.34503693, 0.12315868, 0.89428629, 0.4807991 , 0.22609537,\n",
       "       0.40281297, 0.73242789, 0.12110022, 0.03722271, 0.02233747,\n",
       "       0.08551527, 0.52304982, 0.08455684, 0.08745495, 0.04302634,\n",
       "       0.93162909, 0.06806405, 0.59962902, 0.88166063, 0.3585322 ,\n",
       "       0.47099241, 0.75545423, 0.550952  , 0.09636654, 0.08536997,\n",
       "       0.08548808, 0.08551527, 0.20651617, 0.61055971, 0.12587793,\n",
       "       0.58818601, 0.12651488, 0.09711255, 0.10994875, 0.74450708,\n",
       "       0.93321847, 0.45304592, 0.32130604, 0.18474565, 0.88653559,\n",
       "       0.24463554, 0.50953214, 0.69626658, 0.89861276, 0.7277009 ,\n",
       "       0.04996051, 0.61062249, 0.06408119, 0.61056826, 0.18109546,\n",
       "       0.38694949, 0.08587719, 0.17727858, 0.11965111, 0.69497819,\n",
       "       0.07941875, 0.11328388, 0.94029307, 0.23833149, 0.21843294,\n",
       "       0.05702394, 0.88012775, 0.04131292, 0.38791724, 0.39897313,\n",
       "       0.71861726, 0.84297519, 0.08536997, 0.44627678, 0.82232527,\n",
       "       0.89551374, 0.12370655, 0.03597985, 0.04394711, 0.03325872,\n",
       "       0.61056826, 0.12587793, 0.72077808, 0.05322335, 0.85358463,\n",
       "       0.65591257, 0.10255802, 0.04966985, 0.1139165 , 0.21528691,\n",
       "       0.41124895, 0.10801526, 0.61863002, 0.14854133, 0.97364126,\n",
       "       0.78028991, 0.04897138, 0.14511384, 0.13915069, 0.66439612,\n",
       "       0.08468095, 0.61048556, 0.22837077, 0.13649905, 0.48435903,\n",
       "       0.87168615, 0.19587765, 0.94433555, 0.77943237, 0.22609537,\n",
       "       0.15032239, 0.06097722, 0.12587793, 0.10282334, 0.0550469 ,\n",
       "       0.08120109, 0.2639559 , 0.68125205, 0.58588871, 0.71860754,\n",
       "       0.10953966, 0.13649481, 0.08551527, 0.93655043, 0.32975783,\n",
       "       0.10985017, 0.74502739, 0.94787298, 0.31983996, 0.65231203,\n",
       "       0.51683481, 0.14025121, 0.94479895, 0.94261131, 0.69122644,\n",
       "       0.11716034, 0.9483274 , 0.72592269, 0.08555   , 0.25450184,\n",
       "       0.70339162, 0.37106843, 0.48093859, 0.24372642, 0.62634917,\n",
       "       0.77421158, 0.68646324, 0.95599928])"
      ]
     },
     "execution_count": 19,
     "metadata": {},
     "output_type": "execute_result"
    }
   ],
   "source": [
    "train_preds = train_predict[:,1]\n",
    "train_preds"
   ]
  },
  {
   "cell_type": "code",
   "execution_count": 20,
   "metadata": {
    "colab": {},
    "colab_type": "code",
    "id": "O7_cPchudkR-"
   },
   "outputs": [],
   "source": [
    "for i in range(0, len(train_preds)):\n",
    "  if(train_preds[i]>0.6):\n",
    "    train_preds[i] = 1\n",
    "  else:\n",
    "    train_preds[i] = 0\n",
    "  "
   ]
  },
  {
   "cell_type": "code",
   "execution_count": 21,
   "metadata": {
    "colab": {
     "base_uri": "https://localhost:8080/",
     "height": 34
    },
    "colab_type": "code",
    "executionInfo": {
     "elapsed": 5563,
     "status": "ok",
     "timestamp": 1559907759162,
     "user": {
      "displayName": "Aishwarya Singh",
      "photoUrl": "https://lh5.googleusercontent.com/-72ZtNB76Qxg/AAAAAAAAAAI/AAAAAAAAAAc/Nsa5vQruND0/s64/photo.jpg",
      "userId": "01105858832371513140"
     },
     "user_tz": -330
    },
    "id": "nMS-8UHtm6ul",
    "outputId": "9bc47d7f-ce45-4d2d-846d-547e02184d53"
   },
   "outputs": [
    {
     "name": "stdout",
     "output_type": "stream",
     "text": [
      "Training f1_score 0.7316017316017317\n"
     ]
    }
   ],
   "source": [
    "# Calculating f1-score\n",
    "k = f1_score(train_preds, train_y)\n",
    "print('Training f1_score', k )"
   ]
  },
  {
   "cell_type": "markdown",
   "metadata": {
    "colab_type": "text",
    "id": "Wq2nBd4yaJLy"
   },
   "source": [
    "# Confusion matrix"
   ]
  },
  {
   "cell_type": "code",
   "execution_count": 22,
   "metadata": {
    "colab": {
     "base_uri": "https://localhost:8080/",
     "height": 52
    },
    "colab_type": "code",
    "executionInfo": {
     "elapsed": 5082,
     "status": "ok",
     "timestamp": 1559907759167,
     "user": {
      "displayName": "Aishwarya Singh",
      "photoUrl": "https://lh5.googleusercontent.com/-72ZtNB76Qxg/AAAAAAAAAAI/AAAAAAAAAAc/Nsa5vQruND0/s64/photo.jpg",
      "userId": "01105858832371513140"
     },
     "user_tz": -330
    },
    "id": "_B0y2DfFZus5",
    "outputId": "05523d3b-19cf-413d-d839-3514d278a29a"
   },
   "outputs": [
    {
     "name": "stdout",
     "output_type": "stream",
     "text": [
      "[[127  17]\n",
      " [ 23  56]]\n"
     ]
    }
   ],
   "source": [
    "from sklearn.metrics import confusion_matrix\n",
    "cf= confusion_matrix(test_y, test_predict)\n",
    "print(cf)"
   ]
  },
  {
   "cell_type": "code",
   "execution_count": 23,
   "metadata": {
    "colab": {
     "base_uri": "https://localhost:8080/",
     "height": 173
    },
    "colab_type": "code",
    "executionInfo": {
     "elapsed": 4795,
     "status": "ok",
     "timestamp": 1559907759171,
     "user": {
      "displayName": "Aishwarya Singh",
      "photoUrl": "https://lh5.googleusercontent.com/-72ZtNB76Qxg/AAAAAAAAAAI/AAAAAAAAAAc/Nsa5vQruND0/s64/photo.jpg",
      "userId": "01105858832371513140"
     },
     "user_tz": -330
    },
    "id": "8iN2ugVDZkWS",
    "outputId": "26abffce-bb28-4786-81d6-ac09ad0e4402"
   },
   "outputs": [
    {
     "name": "stdout",
     "output_type": "stream",
     "text": [
      "              precision    recall  f1-score   support\n",
      "\n",
      "           0       0.85      0.88      0.86       144\n",
      "           1       0.77      0.71      0.74        79\n",
      "\n",
      "    accuracy                           0.82       223\n",
      "   macro avg       0.81      0.80      0.80       223\n",
      "weighted avg       0.82      0.82      0.82       223\n",
      "\n"
     ]
    }
   ],
   "source": [
    "from sklearn.metrics import classification_report as rep\n",
    "print(rep( test_y , test_predict ))"
   ]
  },
  {
   "cell_type": "markdown",
   "metadata": {
    "colab_type": "text",
    "id": "Tx7pAs3cosaz"
   },
   "source": [
    "# Parameters of Logistic Regression"
   ]
  },
  {
   "cell_type": "code",
   "execution_count": 24,
   "metadata": {
    "colab": {
     "base_uri": "https://localhost:8080/",
     "height": 104
    },
    "colab_type": "code",
    "executionInfo": {
     "elapsed": 4303,
     "status": "ok",
     "timestamp": 1559907759176,
     "user": {
      "displayName": "Aishwarya Singh",
      "photoUrl": "https://lh5.googleusercontent.com/-72ZtNB76Qxg/AAAAAAAAAAI/AAAAAAAAAAc/Nsa5vQruND0/s64/photo.jpg",
      "userId": "01105858832371513140"
     },
     "user_tz": -330
    },
    "id": "jjMoVU-VoyVo",
    "outputId": "9e3cda88-342d-45a9-8f1f-82e77c1a00e4"
   },
   "outputs": [
    {
     "data": {
      "text/plain": [
       "array([[-0.03561628,  0.00287939,  1.01920204,  0.15071926, -1.08260903,\n",
       "         1.19084557, -1.1035333 ,  0.84887335,  1.05980354,  0.35024333,\n",
       "        -0.67507096, -0.78572706, -0.28511314, -0.42569679,  0.12524042,\n",
       "         0.59864294, -0.18694931,  0.21087719, -0.35201547, -0.14120283,\n",
       "        -0.16728067,  0.14308654,  0.23481699, -0.29059126]])"
      ]
     },
     "execution_count": 24,
     "metadata": {},
     "output_type": "execute_result"
    }
   ],
   "source": [
    "# printing the coefficients\n",
    "logreg.coef_"
   ]
  },
  {
   "cell_type": "markdown",
   "metadata": {
    "colab_type": "text",
    "id": "MGWYxwjykZss"
   },
   "source": [
    "### Plotting the coefficients"
   ]
  },
  {
   "cell_type": "code",
   "execution_count": 25,
   "metadata": {
    "colab": {
     "base_uri": "https://localhost:8080/",
     "height": 680
    },
    "colab_type": "code",
    "executionInfo": {
     "elapsed": 3818,
     "status": "ok",
     "timestamp": 1559907759179,
     "user": {
      "displayName": "Aishwarya Singh",
      "photoUrl": "https://lh5.googleusercontent.com/-72ZtNB76Qxg/AAAAAAAAAAI/AAAAAAAAAAc/Nsa5vQruND0/s64/photo.jpg",
      "userId": "01105858832371513140"
     },
     "user_tz": -330
    },
    "id": "wxkPFx7Yp3Du",
    "outputId": "e3a2c141-29a5-4fe1-c5cf-3aba7ecea7c2"
   },
   "outputs": [
    {
     "data": {
      "text/plain": [
       "Text(0.5, 1.0, 'Coefficient plot')"
      ]
     },
     "execution_count": 25,
     "metadata": {},
     "output_type": "execute_result"
    },
    {
     "data": {
      "image/png": "[encoded data removed]",
      "text/plain": [
       "<Figure size 960x720 with 1 Axes>"
      ]
     },
     "metadata": {},
     "output_type": "display_data"
    }
   ],
   "source": [
    "plt.figure(figsize=(8, 6), dpi=120, facecolor='w', edgecolor='b')\n",
    "x = range(len(train_x.columns))\n",
    "c = logreg.coef_.reshape(-1)\n",
    "plt.bar( x, c )\n",
    "plt.xlabel( \"Variables\")\n",
    "plt.ylabel('Coefficients')\n",
    "plt.title('Coefficient plot')"
   ]
  },
  {
   "cell_type": "code",
   "execution_count": 26,
   "metadata": {
    "colab": {
     "base_uri": "https://localhost:8080/",
     "height": 206
    },
    "colab_type": "code",
    "executionInfo": {
     "elapsed": 3549,
     "status": "ok",
     "timestamp": 1559907759182,
     "user": {
      "displayName": "Aishwarya Singh",
      "photoUrl": "https://lh5.googleusercontent.com/-72ZtNB76Qxg/AAAAAAAAAAI/AAAAAAAAAAc/Nsa5vQruND0/s64/photo.jpg",
      "userId": "01105858832371513140"
     },
     "user_tz": -330
    },
    "id": "GWpGeLB-UsRE",
    "outputId": "7ac27612-3e35-4827-8bde-8b57e6a472b7"
   },
   "outputs": [
    {
     "data": {
      "text/html": [
       "<div>\n",
       "<style scoped>\n",
       "    .dataframe tbody tr th:only-of-type {\n",
       "        vertical-align: middle;\n",
       "    }\n",
       "\n",
       "    .dataframe tbody tr th {\n",
       "        vertical-align: top;\n",
       "    }\n",
       "\n",
       "    .dataframe thead th {\n",
       "        text-align: right;\n",
       "    }\n",
       "</style>\n",
       "<table border=\"1\" class=\"dataframe\">\n",
       "  <thead>\n",
       "    <tr style=\"text-align: right;\">\n",
       "      <th></th>\n",
       "      <th>Variable</th>\n",
       "      <th>coefficient</th>\n",
       "    </tr>\n",
       "  </thead>\n",
       "  <tbody>\n",
       "    <tr>\n",
       "      <td>0</td>\n",
       "      <td>Age</td>\n",
       "      <td>0.035616</td>\n",
       "    </tr>\n",
       "    <tr>\n",
       "      <td>1</td>\n",
       "      <td>Fare</td>\n",
       "      <td>0.002879</td>\n",
       "    </tr>\n",
       "    <tr>\n",
       "      <td>2</td>\n",
       "      <td>Pclass_1</td>\n",
       "      <td>1.019202</td>\n",
       "    </tr>\n",
       "    <tr>\n",
       "      <td>3</td>\n",
       "      <td>Pclass_2</td>\n",
       "      <td>0.150719</td>\n",
       "    </tr>\n",
       "    <tr>\n",
       "      <td>4</td>\n",
       "      <td>Pclass_3</td>\n",
       "      <td>1.082609</td>\n",
       "    </tr>\n",
       "  </tbody>\n",
       "</table>\n",
       "</div>"
      ],
      "text/plain": [
       "   Variable  coefficient\n",
       "0       Age     0.035616\n",
       "1      Fare     0.002879\n",
       "2  Pclass_1     1.019202\n",
       "3  Pclass_2     0.150719\n",
       "4  Pclass_3     1.082609"
      ]
     },
     "execution_count": 26,
     "metadata": {},
     "output_type": "execute_result"
    }
   ],
   "source": [
    "Coefficients = pd.DataFrame({\n",
    "    'Variable'    : train_x.columns,\n",
    "    'coefficient' : abs(c)\n",
    "})\n",
    "Coefficients.head()"
   ]
  },
  {
   "cell_type": "code",
   "execution_count": 28,
   "metadata": {
    "colab": {
     "base_uri": "https://localhost:8080/",
     "height": 131
    },
    "colab_type": "code",
    "executionInfo": {
     "elapsed": 2397,
     "status": "error",
     "timestamp": 1559907813938,
     "user": {
      "displayName": "Aishwarya Singh",
      "photoUrl": "https://lh5.googleusercontent.com/-72ZtNB76Qxg/AAAAAAAAAAI/AAAAAAAAAAc/Nsa5vQruND0/s64/photo.jpg",
      "userId": "01105858832371513140"
     },
     "user_tz": -330
    },
    "id": "pWP-VAcstr5J",
    "outputId": "f7e7ec7c-6c82-4f7c-c2d0-8ebc166a6251"
   },
   "outputs": [],
   "source": [
    "#selecting variables with high coefficient\n",
    "sig_var = Coefficients[Coefficients.coefficient > 0.3]"
   ]
  },
  {
   "cell_type": "code",
   "execution_count": 29,
   "metadata": {
    "colab": {
     "base_uri": "https://localhost:8080/",
     "height": 226
    },
    "colab_type": "code",
    "executionInfo": {
     "elapsed": 4140,
     "status": "ok",
     "timestamp": 1559907815966,
     "user": {
      "displayName": "Aishwarya Singh",
      "photoUrl": "https://lh5.googleusercontent.com/-72ZtNB76Qxg/AAAAAAAAAAI/AAAAAAAAAAc/Nsa5vQruND0/s64/photo.jpg",
      "userId": "01105858832371513140"
     },
     "user_tz": -330
    },
    "id": "XdCZihb6uLNI",
    "outputId": "e3bbf507-b9f1-4316-8aa0-b634c02701d5"
   },
   "outputs": [
    {
     "data": {
      "text/html": [
       "<div>\n",
       "<style scoped>\n",
       "    .dataframe tbody tr th:only-of-type {\n",
       "        vertical-align: middle;\n",
       "    }\n",
       "\n",
       "    .dataframe tbody tr th {\n",
       "        vertical-align: top;\n",
       "    }\n",
       "\n",
       "    .dataframe thead th {\n",
       "        text-align: right;\n",
       "    }\n",
       "</style>\n",
       "<table border=\"1\" class=\"dataframe\">\n",
       "  <thead>\n",
       "    <tr style=\"text-align: right;\">\n",
       "      <th></th>\n",
       "      <th>Pclass_1</th>\n",
       "      <th>Pclass_3</th>\n",
       "      <th>Sex_female</th>\n",
       "      <th>Sex_male</th>\n",
       "      <th>SibSp_0</th>\n",
       "      <th>SibSp_1</th>\n",
       "      <th>SibSp_2</th>\n",
       "      <th>SibSp_3</th>\n",
       "      <th>SibSp_4</th>\n",
       "      <th>SibSp_8</th>\n",
       "      <th>Parch_1</th>\n",
       "      <th>Parch_4</th>\n",
       "    </tr>\n",
       "  </thead>\n",
       "  <tbody>\n",
       "    <tr>\n",
       "      <td>0</td>\n",
       "      <td>0</td>\n",
       "      <td>1</td>\n",
       "      <td>0</td>\n",
       "      <td>1</td>\n",
       "      <td>0</td>\n",
       "      <td>1</td>\n",
       "      <td>0</td>\n",
       "      <td>0</td>\n",
       "      <td>0</td>\n",
       "      <td>0</td>\n",
       "      <td>0</td>\n",
       "      <td>0</td>\n",
       "    </tr>\n",
       "    <tr>\n",
       "      <td>1</td>\n",
       "      <td>1</td>\n",
       "      <td>0</td>\n",
       "      <td>1</td>\n",
       "      <td>0</td>\n",
       "      <td>0</td>\n",
       "      <td>1</td>\n",
       "      <td>0</td>\n",
       "      <td>0</td>\n",
       "      <td>0</td>\n",
       "      <td>0</td>\n",
       "      <td>0</td>\n",
       "      <td>0</td>\n",
       "    </tr>\n",
       "    <tr>\n",
       "      <td>2</td>\n",
       "      <td>0</td>\n",
       "      <td>1</td>\n",
       "      <td>1</td>\n",
       "      <td>0</td>\n",
       "      <td>1</td>\n",
       "      <td>0</td>\n",
       "      <td>0</td>\n",
       "      <td>0</td>\n",
       "      <td>0</td>\n",
       "      <td>0</td>\n",
       "      <td>0</td>\n",
       "      <td>0</td>\n",
       "    </tr>\n",
       "    <tr>\n",
       "      <td>3</td>\n",
       "      <td>1</td>\n",
       "      <td>0</td>\n",
       "      <td>1</td>\n",
       "      <td>0</td>\n",
       "      <td>0</td>\n",
       "      <td>1</td>\n",
       "      <td>0</td>\n",
       "      <td>0</td>\n",
       "      <td>0</td>\n",
       "      <td>0</td>\n",
       "      <td>0</td>\n",
       "      <td>0</td>\n",
       "    </tr>\n",
       "    <tr>\n",
       "      <td>4</td>\n",
       "      <td>0</td>\n",
       "      <td>1</td>\n",
       "      <td>0</td>\n",
       "      <td>1</td>\n",
       "      <td>1</td>\n",
       "      <td>0</td>\n",
       "      <td>0</td>\n",
       "      <td>0</td>\n",
       "      <td>0</td>\n",
       "      <td>0</td>\n",
       "      <td>0</td>\n",
       "      <td>0</td>\n",
       "    </tr>\n",
       "  </tbody>\n",
       "</table>\n",
       "</div>"
      ],
      "text/plain": [
       "   Pclass_1  Pclass_3  Sex_female  Sex_male  SibSp_0  SibSp_1  SibSp_2  \\\n",
       "0         0         1           0         1        0        1        0   \n",
       "1         1         0           1         0        0        1        0   \n",
       "2         0         1           1         0        1        0        0   \n",
       "3         1         0           1         0        0        1        0   \n",
       "4         0         1           0         1        1        0        0   \n",
       "\n",
       "   SibSp_3  SibSp_4  SibSp_8  Parch_1  Parch_4  \n",
       "0        0        0        0        0        0  \n",
       "1        0        0        0        0        0  \n",
       "2        0        0        0        0        0  \n",
       "3        0        0        0        0        0  \n",
       "4        0        0        0        0        0  "
      ]
     },
     "execution_count": 29,
     "metadata": {},
     "output_type": "execute_result"
    }
   ],
   "source": [
    "subset = data[sig_var['Variable'].values]\n",
    "subset.head()"
   ]
  },
  {
   "cell_type": "code",
   "execution_count": 30,
   "metadata": {
    "colab": {},
    "colab_type": "code",
    "id": "aeEEVtBbvFI6"
   },
   "outputs": [],
   "source": [
    "# Using train test split function\n",
    "train_x,test_x,train_y,test_y = train_test_split(subset, y, random_state = 56)"
   ]
  },
  {
   "cell_type": "markdown",
   "metadata": {
    "colab_type": "text",
    "id": "bP1qY6M2vFKX"
   },
   "source": [
    "### Implementing Logistic Regression"
   ]
  },
  {
   "cell_type": "code",
   "execution_count": 31,
   "metadata": {
    "colab": {
     "base_uri": "https://localhost:8080/",
     "height": 159
    },
    "colab_type": "code",
    "executionInfo": {
     "elapsed": 3376,
     "status": "ok",
     "timestamp": 1559907815982,
     "user": {
      "displayName": "Aishwarya Singh",
      "photoUrl": "https://lh5.googleusercontent.com/-72ZtNB76Qxg/AAAAAAAAAAI/AAAAAAAAAAc/Nsa5vQruND0/s64/photo.jpg",
      "userId": "01105858832371513140"
     },
     "user_tz": -330
    },
    "id": "fT8yiasyvFKf",
    "outputId": "73ab52a8-76a7-42c6-bb7a-68a95907cda1"
   },
   "outputs": [
    {
     "data": {
      "text/plain": [
       "LogisticRegression(C=1.0, class_weight=None, dual=False, fit_intercept=True,\n",
       "                   intercept_scaling=1, l1_ratio=None, max_iter=100,\n",
       "                   multi_class='auto', n_jobs=None, penalty='l2',\n",
       "                   random_state=None, solver='lbfgs', tol=0.0001, verbose=0,\n",
       "                   warm_start=False)"
      ]
     },
     "execution_count": 31,
     "metadata": {},
     "output_type": "execute_result"
    }
   ],
   "source": [
    "# Creating instance of Logistic Regresssion\n",
    "logreg = LogReg()\n",
    "\n",
    "# Fitting the model\n",
    "logreg.fit(train_x, train_y)"
   ]
  },
  {
   "cell_type": "markdown",
   "metadata": {
    "colab_type": "text",
    "id": "nprgzSRivFKo"
   },
   "source": [
    "### Making predictions using *predict* function"
   ]
  },
  {
   "cell_type": "code",
   "execution_count": 32,
   "metadata": {
    "colab": {
     "base_uri": "https://localhost:8080/",
     "height": 34
    },
    "colab_type": "code",
    "executionInfo": {
     "elapsed": 2661,
     "status": "ok",
     "timestamp": 1559907815985,
     "user": {
      "displayName": "Aishwarya Singh",
      "photoUrl": "https://lh5.googleusercontent.com/-72ZtNB76Qxg/AAAAAAAAAAI/AAAAAAAAAAc/Nsa5vQruND0/s64/photo.jpg",
      "userId": "01105858832371513140"
     },
     "user_tz": -330
    },
    "id": "sI8H3sxLvFKq",
    "outputId": "29ee7fee-1345-4136-c585-feaeaca26bc1"
   },
   "outputs": [
    {
     "name": "stdout",
     "output_type": "stream",
     "text": [
      "Training f1_score 0.7011952191235059\n"
     ]
    }
   ],
   "source": [
    "# Predicting over the Train\n",
    "train_predict = logreg.predict(train_x)\n",
    "k = f1_score(train_predict, train_y)\n",
    "print('Training f1_score', k )"
   ]
  },
  {
   "cell_type": "code",
   "execution_count": 33,
   "metadata": {
    "colab": {
     "base_uri": "https://localhost:8080/",
     "height": 680
    },
    "colab_type": "code",
    "executionInfo": {
     "elapsed": 3800,
     "status": "ok",
     "timestamp": 1559907817424,
     "user": {
      "displayName": "Aishwarya Singh",
      "photoUrl": "https://lh5.googleusercontent.com/-72ZtNB76Qxg/AAAAAAAAAAI/AAAAAAAAAAc/Nsa5vQruND0/s64/photo.jpg",
      "userId": "01105858832371513140"
     },
     "user_tz": -330
    },
    "id": "kOjZbA_0uNMg",
    "outputId": "f9ff494b-8c19-4608-f610-9f3fbac010d2"
   },
   "outputs": [
    {
     "data": {
      "text/plain": [
       "Text(0.5, 1.0, 'Coefficient plot')"
      ]
     },
     "execution_count": 33,
     "metadata": {},
     "output_type": "execute_result"
    },
    {
     "data": {
      "image/png": "[encoded data removed]",
      "text/plain": [
       "<Figure size 960x720 with 1 Axes>"
      ]
     },
     "metadata": {},
     "output_type": "display_data"
    }
   ],
   "source": [
    "plt.figure(figsize=(8, 6), dpi=120, facecolor='w', edgecolor='b')\n",
    "x = range(len(train_x.columns))\n",
    "c = logreg.coef_.reshape(-1)\n",
    "plt.bar( x, c )\n",
    "plt.xlabel( \"Variables\")\n",
    "plt.ylabel('Coefficients')\n",
    "plt.title('Coefficient plot')"
   ]
  },
  {
   "cell_type": "code",
   "execution_count": 0,
   "metadata": {
    "colab": {},
    "colab_type": "code",
    "id": "Z9mFcQNrv3Ee"
   },
   "outputs": [],
   "source": []
  }
 ],
 "metadata": {
  "colab": {
   "collapsed_sections": [],
   "name": "Logistic regression Notebook.ipynb",
   "provenance": [],
   "version": "0.3.2"
  },
  "kernelspec": {
   "display_name": "Python 3",
   "language": "python",
   "name": "python3"
  },
  "language_info": {
   "codemirror_mode": {
    "name": "ipython",
    "version": 3
   },
   "file_extension": ".py",
   "mimetype": "text/x-python",
   "name": "python",
   "nbconvert_exporter": "python",
   "pygments_lexer": "ipython3",
   "version": "3.6.5"
  }
 },
 "nbformat": 4,
 "nbformat_minor": 1
}
