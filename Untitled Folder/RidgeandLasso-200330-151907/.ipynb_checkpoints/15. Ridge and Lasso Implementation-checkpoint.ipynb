{
 "cells": [
  {
   "cell_type": "code",
   "execution_count": 1,
   "metadata": {
    "colab": {},
    "colab_type": "code",
    "id": "XiprJxiXIfN9"
   },
   "outputs": [],
   "source": [
    "#Importing libraries\n",
    "import numpy as np\n",
    "import pandas as pd\n",
    "import random\n",
    "import matplotlib.pyplot as plt\n",
    "from sklearn.model_selection import train_test_split\n",
    "%matplotlib inline"
   ]
  },
  {
   "cell_type": "code",
   "execution_count": 2,
   "metadata": {
    "colab": {},
    "colab_type": "code",
    "id": "QQWy8t4SIfOA"
   },
   "outputs": [],
   "source": [
    "#Defining independent variable as angles from 60deg to 300deg converted to radians\n",
    "x = np.array([i*np.pi/180 for i in range(10,360,3)])"
   ]
  },
  {
   "cell_type": "code",
   "execution_count": 3,
   "metadata": {
    "colab": {},
    "colab_type": "code",
    "id": "CGRXp2TZIfOC"
   },
   "outputs": [],
   "source": [
    "#Setting seed for reproducability\n",
    "np.random.seed(10)  "
   ]
  },
  {
   "cell_type": "code",
   "execution_count": 4,
   "metadata": {
    "colab": {},
    "colab_type": "code",
    "id": "NLYdFsSaIfOE"
   },
   "outputs": [],
   "source": [
    "#Defining the target/dependent variable as sine of the independent variable\n",
    "y = np.sin(x) + np.random.normal(0,0.15,len(x))"
   ]
  },
  {
   "cell_type": "code",
   "execution_count": 5,
   "metadata": {
    "colab": {},
    "colab_type": "code",
    "id": "A9hruXjrIfOG"
   },
   "outputs": [],
   "source": [
    "#Creating the dataframe using independent and dependent variable\n",
    "data = pd.DataFrame(np.column_stack([x,y]),columns=['x','y'])"
   ]
  },
  {
   "cell_type": "code",
   "execution_count": 6,
   "metadata": {
    "colab": {
     "base_uri": "https://localhost:8080/",
     "height": 204
    },
    "colab_type": "code",
    "executionInfo": {
     "elapsed": 2164,
     "status": "ok",
     "timestamp": 1560001047173,
     "user": {
      "displayName": "Sharoon Saxena",
      "photoUrl": "",
      "userId": "14774175216384036942"
     },
     "user_tz": -330
    },
    "id": "0j1ucc3fIfOI",
    "outputId": "2dd44a5e-9ad9-4a0d-a85d-8cd6cee081e0"
   },
   "outputs": [
    {
     "data": {
      "text/html": [
       "<div>\n",
       "<style scoped>\n",
       "    .dataframe tbody tr th:only-of-type {\n",
       "        vertical-align: middle;\n",
       "    }\n",
       "\n",
       "    .dataframe tbody tr th {\n",
       "        vertical-align: top;\n",
       "    }\n",
       "\n",
       "    .dataframe thead th {\n",
       "        text-align: right;\n",
       "    }\n",
       "</style>\n",
       "<table border=\"1\" class=\"dataframe\">\n",
       "  <thead>\n",
       "    <tr style=\"text-align: right;\">\n",
       "      <th></th>\n",
       "      <th>x</th>\n",
       "      <th>y</th>\n",
       "    </tr>\n",
       "  </thead>\n",
       "  <tbody>\n",
       "    <tr>\n",
       "      <td>0</td>\n",
       "      <td>0.174533</td>\n",
       "      <td>0.373386</td>\n",
       "    </tr>\n",
       "    <tr>\n",
       "      <td>1</td>\n",
       "      <td>0.226893</td>\n",
       "      <td>0.332243</td>\n",
       "    </tr>\n",
       "    <tr>\n",
       "      <td>2</td>\n",
       "      <td>0.279253</td>\n",
       "      <td>0.043827</td>\n",
       "    </tr>\n",
       "    <tr>\n",
       "      <td>3</td>\n",
       "      <td>0.331613</td>\n",
       "      <td>0.324311</td>\n",
       "    </tr>\n",
       "    <tr>\n",
       "      <td>4</td>\n",
       "      <td>0.383972</td>\n",
       "      <td>0.467807</td>\n",
       "    </tr>\n",
       "  </tbody>\n",
       "</table>\n",
       "</div>"
      ],
      "text/plain": [
       "          x         y\n",
       "0  0.174533  0.373386\n",
       "1  0.226893  0.332243\n",
       "2  0.279253  0.043827\n",
       "3  0.331613  0.324311\n",
       "4  0.383972  0.467807"
      ]
     },
     "execution_count": 6,
     "metadata": {},
     "output_type": "execute_result"
    }
   ],
   "source": [
    "#Printing first 5 rows of the data\n",
    "data.head()"
   ]
  },
  {
   "cell_type": "code",
   "execution_count": 7,
   "metadata": {
    "colab": {
     "base_uri": "https://localhost:8080/",
     "height": 503
    },
    "colab_type": "code",
    "executionInfo": {
     "elapsed": 2700,
     "status": "ok",
     "timestamp": 1560001047723,
     "user": {
      "displayName": "Sharoon Saxena",
      "photoUrl": "",
      "userId": "14774175216384036942"
     },
     "user_tz": -330
    },
    "id": "iXKirMENIfOO",
    "outputId": "8d117e9d-2129-4eda-b3c2-d692125bea91"
   },
   "outputs": [
    {
     "data": {
      "text/plain": [
       "[<matplotlib.lines.Line2D at 0x162ebcba320>]"
      ]
     },
     "execution_count": 7,
     "metadata": {},
     "output_type": "execute_result"
    },
    {
     "data": {
      "image/png": "[encoded data removed]",
      "text/plain": [
       "<Figure size 864x576 with 1 Axes>"
      ]
     },
     "metadata": {
      "needs_background": "light"
     },
     "output_type": "display_data"
    }
   ],
   "source": [
    "#Plotting the dependent and independent variables\n",
    "plt.figure(figsize=(12,8))\n",
    "plt.plot(data['x'],data['y'],'.')"
   ]
  },
  {
   "cell_type": "code",
   "execution_count": 8,
   "metadata": {
    "colab": {
     "base_uri": "https://localhost:8080/",
     "height": 204
    },
    "colab_type": "code",
    "executionInfo": {
     "elapsed": 2687,
     "status": "ok",
     "timestamp": 1560001047725,
     "user": {
      "displayName": "Sharoon Saxena",
      "photoUrl": "",
      "userId": "14774175216384036942"
     },
     "user_tz": -330
    },
    "id": "c0KKNiYHIfOR",
    "outputId": "bc5dd92a-27e9-4a05-f063-fc90259a5c27"
   },
   "outputs": [
    {
     "data": {
      "text/html": [
       "<div>\n",
       "<style scoped>\n",
       "    .dataframe tbody tr th:only-of-type {\n",
       "        vertical-align: middle;\n",
       "    }\n",
       "\n",
       "    .dataframe tbody tr th {\n",
       "        vertical-align: top;\n",
       "    }\n",
       "\n",
       "    .dataframe thead th {\n",
       "        text-align: right;\n",
       "    }\n",
       "</style>\n",
       "<table border=\"1\" class=\"dataframe\">\n",
       "  <thead>\n",
       "    <tr style=\"text-align: right;\">\n",
       "      <th></th>\n",
       "      <th>x</th>\n",
       "      <th>y</th>\n",
       "      <th>x_2</th>\n",
       "      <th>x_3</th>\n",
       "      <th>x_4</th>\n",
       "      <th>x_5</th>\n",
       "      <th>x_6</th>\n",
       "      <th>x_7</th>\n",
       "      <th>x_8</th>\n",
       "      <th>x_9</th>\n",
       "      <th>x_10</th>\n",
       "      <th>x_11</th>\n",
       "      <th>x_12</th>\n",
       "      <th>x_13</th>\n",
       "      <th>x_14</th>\n",
       "      <th>x_15</th>\n",
       "    </tr>\n",
       "  </thead>\n",
       "  <tbody>\n",
       "    <tr>\n",
       "      <td>0</td>\n",
       "      <td>0.174533</td>\n",
       "      <td>0.373386</td>\n",
       "      <td>0.030462</td>\n",
       "      <td>0.005317</td>\n",
       "      <td>0.000928</td>\n",
       "      <td>0.000162</td>\n",
       "      <td>0.000028</td>\n",
       "      <td>0.000005</td>\n",
       "      <td>8.610313e-07</td>\n",
       "      <td>1.502783e-07</td>\n",
       "      <td>2.622851e-08</td>\n",
       "      <td>4.577739e-09</td>\n",
       "      <td>7.989662e-10</td>\n",
       "      <td>1.394459e-10</td>\n",
       "      <td>2.433790e-11</td>\n",
       "      <td>4.247765e-12</td>\n",
       "    </tr>\n",
       "    <tr>\n",
       "      <td>1</td>\n",
       "      <td>0.226893</td>\n",
       "      <td>0.332243</td>\n",
       "      <td>0.051480</td>\n",
       "      <td>0.011681</td>\n",
       "      <td>0.002650</td>\n",
       "      <td>0.000601</td>\n",
       "      <td>0.000136</td>\n",
       "      <td>0.000031</td>\n",
       "      <td>7.023697e-06</td>\n",
       "      <td>1.593626e-06</td>\n",
       "      <td>3.615823e-07</td>\n",
       "      <td>8.204043e-08</td>\n",
       "      <td>1.861438e-08</td>\n",
       "      <td>4.223469e-09</td>\n",
       "      <td>9.582748e-10</td>\n",
       "      <td>2.174257e-10</td>\n",
       "    </tr>\n",
       "    <tr>\n",
       "      <td>2</td>\n",
       "      <td>0.279253</td>\n",
       "      <td>0.043827</td>\n",
       "      <td>0.077982</td>\n",
       "      <td>0.021777</td>\n",
       "      <td>0.006081</td>\n",
       "      <td>0.001698</td>\n",
       "      <td>0.000474</td>\n",
       "      <td>0.000132</td>\n",
       "      <td>3.698101e-05</td>\n",
       "      <td>1.032705e-05</td>\n",
       "      <td>2.883856e-06</td>\n",
       "      <td>8.053244e-07</td>\n",
       "      <td>2.248890e-07</td>\n",
       "      <td>6.280085e-08</td>\n",
       "      <td>1.753731e-08</td>\n",
       "      <td>4.897340e-09</td>\n",
       "    </tr>\n",
       "    <tr>\n",
       "      <td>3</td>\n",
       "      <td>0.331613</td>\n",
       "      <td>0.324311</td>\n",
       "      <td>0.109967</td>\n",
       "      <td>0.036466</td>\n",
       "      <td>0.012093</td>\n",
       "      <td>0.004010</td>\n",
       "      <td>0.001330</td>\n",
       "      <td>0.000441</td>\n",
       "      <td>1.462338e-04</td>\n",
       "      <td>4.849296e-05</td>\n",
       "      <td>1.608088e-05</td>\n",
       "      <td>5.332620e-06</td>\n",
       "      <td>1.768364e-06</td>\n",
       "      <td>5.864117e-07</td>\n",
       "      <td>1.944615e-07</td>\n",
       "      <td>6.448586e-08</td>\n",
       "    </tr>\n",
       "    <tr>\n",
       "      <td>4</td>\n",
       "      <td>0.383972</td>\n",
       "      <td>0.467807</td>\n",
       "      <td>0.147435</td>\n",
       "      <td>0.056611</td>\n",
       "      <td>0.021737</td>\n",
       "      <td>0.008346</td>\n",
       "      <td>0.003205</td>\n",
       "      <td>0.001231</td>\n",
       "      <td>4.724984e-04</td>\n",
       "      <td>1.814264e-04</td>\n",
       "      <td>6.966273e-05</td>\n",
       "      <td>2.674857e-05</td>\n",
       "      <td>1.027071e-05</td>\n",
       "      <td>3.943671e-06</td>\n",
       "      <td>1.514261e-06</td>\n",
       "      <td>5.814344e-07</td>\n",
       "    </tr>\n",
       "  </tbody>\n",
       "</table>\n",
       "</div>"
      ],
      "text/plain": [
       "          x         y       x_2       x_3       x_4       x_5       x_6  \\\n",
       "0  0.174533  0.373386  0.030462  0.005317  0.000928  0.000162  0.000028   \n",
       "1  0.226893  0.332243  0.051480  0.011681  0.002650  0.000601  0.000136   \n",
       "2  0.279253  0.043827  0.077982  0.021777  0.006081  0.001698  0.000474   \n",
       "3  0.331613  0.324311  0.109967  0.036466  0.012093  0.004010  0.001330   \n",
       "4  0.383972  0.467807  0.147435  0.056611  0.021737  0.008346  0.003205   \n",
       "\n",
       "        x_7           x_8           x_9          x_10          x_11  \\\n",
       "0  0.000005  8.610313e-07  1.502783e-07  2.622851e-08  4.577739e-09   \n",
       "1  0.000031  7.023697e-06  1.593626e-06  3.615823e-07  8.204043e-08   \n",
       "2  0.000132  3.698101e-05  1.032705e-05  2.883856e-06  8.053244e-07   \n",
       "3  0.000441  1.462338e-04  4.849296e-05  1.608088e-05  5.332620e-06   \n",
       "4  0.001231  4.724984e-04  1.814264e-04  6.966273e-05  2.674857e-05   \n",
       "\n",
       "           x_12          x_13          x_14          x_15  \n",
       "0  7.989662e-10  1.394459e-10  2.433790e-11  4.247765e-12  \n",
       "1  1.861438e-08  4.223469e-09  9.582748e-10  2.174257e-10  \n",
       "2  2.248890e-07  6.280085e-08  1.753731e-08  4.897340e-09  \n",
       "3  1.768364e-06  5.864117e-07  1.944615e-07  6.448586e-08  \n",
       "4  1.027071e-05  3.943671e-06  1.514261e-06  5.814344e-07  "
      ]
     },
     "execution_count": 8,
     "metadata": {},
     "output_type": "execute_result"
    }
   ],
   "source": [
    "# polynomial regression with powers of x from 1 to 15\n",
    "for i in range(2,16):  #power of 1 is already there, hence starting with 2\n",
    "    colname = 'x_%d'%i      #new var will be x_power\n",
    "    data[colname] = data['x']**i\n",
    "data.head()"
   ]
  },
  {
   "cell_type": "markdown",
   "metadata": {
    "colab_type": "text",
    "id": "n1nldRkUIsoU"
   },
   "source": [
    "Creating test and train"
   ]
  },
  {
   "cell_type": "code",
   "execution_count": 9,
   "metadata": {
    "colab": {},
    "colab_type": "code",
    "id": "AUQZSAHhIfOT"
   },
   "outputs": [],
   "source": [
    "data['randNumCol'] = np.random.randint(1, 6, data.shape[0])\n",
    "train=data[data['randNumCol']<=3]\n",
    "test=data[data['randNumCol']>3]\n",
    "train = train.drop('randNumCol', axis=1)\n",
    "test = test.drop('randNumCol', axis=1)"
   ]
  },
  {
   "cell_type": "markdown",
   "metadata": {
    "colab_type": "text",
    "id": "1Z29VxBTIfOV"
   },
   "source": [
    "## Linear Regression"
   ]
  },
  {
   "cell_type": "code",
   "execution_count": 10,
   "metadata": {
    "colab": {},
    "colab_type": "code",
    "id": "AlurQC8dIfOW"
   },
   "outputs": [],
   "source": [
    "#Import Linear Regression model from scikit-learn.\n",
    "from sklearn.linear_model import LinearRegression"
   ]
  },
  {
   "cell_type": "code",
   "execution_count": 11,
   "metadata": {
    "colab": {},
    "colab_type": "code",
    "id": "VUf2CVczIfOY"
   },
   "outputs": [],
   "source": [
    "#Separating the independent and dependent variables\n",
    "X_train = train.drop('y', axis=1).values\n",
    "y_train = train['y'].values\n",
    "X_test = test.drop('y', axis=1).values\n",
    "y_test = test['y'].values"
   ]
  },
  {
   "cell_type": "code",
   "execution_count": 12,
   "metadata": {
    "colab": {
     "base_uri": "https://localhost:8080/",
     "height": 320
    },
    "colab_type": "code",
    "executionInfo": {
     "elapsed": 2682,
     "status": "ok",
     "timestamp": 1560001047737,
     "user": {
      "displayName": "Sharoon Saxena",
      "photoUrl": "",
      "userId": "14774175216384036942"
     },
     "user_tz": -330
    },
    "id": "e87fTLw7IfOc",
    "outputId": "1fe8f1f4-7c45-46e7-ad76-6dc8c4e89543"
   },
   "outputs": [
    {
     "name": "stdout",
     "output_type": "stream",
     "text": [
      "Training Error 0.213144309581739\n",
      "Testing Error 0.18974033118165387\n"
     ]
    },
    {
     "data": {
      "text/plain": [
       "[<matplotlib.lines.Line2D at 0x162ebe23780>]"
      ]
     },
     "execution_count": 12,
     "metadata": {},
     "output_type": "execute_result"
    },
    {
     "data": {
      "image/png": "[encoded data removed]",
      "text/plain": [
       "<Figure size 432x288 with 1 Axes>"
      ]
     },
     "metadata": {
      "needs_background": "light"
     },
     "output_type": "display_data"
    }
   ],
   "source": [
    "#Linear regression with one features\n",
    "independent_variable_train = X_train[:,0:1]\n",
    "\n",
    "linreg = LinearRegression(normalize=True)\n",
    "linreg.fit(independent_variable_train,y_train)\n",
    "y_train_pred = linreg.predict(independent_variable_train)\n",
    "\n",
    "rss_train = sum((y_train_pred-y_train)**2) / X_train.shape[0]\n",
    "\n",
    "independent_variable_test = X_test[:,0:1]\n",
    "y_test_pred = linreg.predict(independent_variable_test)\n",
    "rss_test = sum((y_test_pred-y_test)**2)/ X_test.shape[0]\n",
    "\n",
    "print(\"Training Error\", rss_train)\n",
    "print(\"Testing Error\",rss_test)\n",
    "\n",
    "plt.plot(X_train[:,0:1],y_train_pred)\n",
    "plt.plot(X_train[:,0:1],y_train,'.')"
   ]
  },
  {
   "cell_type": "code",
   "execution_count": 13,
   "metadata": {
    "colab": {
     "base_uri": "https://localhost:8080/",
     "height": 320
    },
    "colab_type": "code",
    "executionInfo": {
     "elapsed": 3569,
     "status": "ok",
     "timestamp": 1560001048638,
     "user": {
      "displayName": "Sharoon Saxena",
      "photoUrl": "",
      "userId": "14774175216384036942"
     },
     "user_tz": -330
    },
    "id": "ktx_Ep4LIfOf",
    "outputId": "3df1add3-a74f-42f3-e0cf-40a60dbc9ff5"
   },
   "outputs": [
    {
     "name": "stdout",
     "output_type": "stream",
     "text": [
      "Training Error 0.021472481770965814\n",
      "Testing Error 0.03045187888196874\n"
     ]
    },
    {
     "data": {
      "text/plain": [
       "[<matplotlib.lines.Line2D at 0x162ebe236d8>]"
      ]
     },
     "execution_count": 13,
     "metadata": {},
     "output_type": "execute_result"
    },
    {
     "data": {
      "image/png": "[encoded data removed]",
      "text/plain": [
       "<Figure size 432x288 with 1 Axes>"
      ]
     },
     "metadata": {
      "needs_background": "light"
     },
     "output_type": "display_data"
    }
   ],
   "source": [
    "#Linear regression with three features\n",
    "independent_variable_train = X_train[:,0:3]\n",
    "\n",
    "linreg = LinearRegression(normalize=True)\n",
    "linreg.fit(independent_variable_train,y_train)\n",
    "y_train_pred = linreg.predict(independent_variable_train)\n",
    "\n",
    "rss_train = sum((y_train_pred-y_train)**2) / X_train.shape[0]\n",
    "\n",
    "independent_variable_test = X_test[:,0:3]\n",
    "y_test_pred = linreg.predict(independent_variable_test)\n",
    "rss_test = sum((y_test_pred-y_test)**2)/ X_test.shape[0]\n",
    "\n",
    "print(\"Training Error\", rss_train)\n",
    "print(\"Testing Error\",rss_test)\n",
    "\n",
    "plt.plot(X_train[:,0:1],y_train_pred)\n",
    "plt.plot(X_train[:,0:1],y_train,'.')"
   ]
  },
  {
   "cell_type": "code",
   "execution_count": 14,
   "metadata": {
    "colab": {
     "base_uri": "https://localhost:8080/",
     "height": 320
    },
    "colab_type": "code",
    "executionInfo": {
     "elapsed": 3560,
     "status": "ok",
     "timestamp": 1560001048640,
     "user": {
      "displayName": "Sharoon Saxena",
      "photoUrl": "",
      "userId": "14774175216384036942"
     },
     "user_tz": -330
    },
    "id": "blee6wddIfOi",
    "outputId": "8472fa9f-f395-4b0c-e190-eab9df7ca4ea"
   },
   "outputs": [
    {
     "name": "stdout",
     "output_type": "stream",
     "text": [
      "Training Error 0.018764347745694125\n",
      "Testing Error 0.03217644572299017\n"
     ]
    },
    {
     "data": {
      "text/plain": [
       "[<matplotlib.lines.Line2D at 0x162ebe629e8>]"
      ]
     },
     "execution_count": 14,
     "metadata": {},
     "output_type": "execute_result"
    },
    {
     "data": {
      "image/png": "[encoded data removed]",
      "text/plain": [
       "<Figure size 432x288 with 1 Axes>"
      ]
     },
     "metadata": {
      "needs_background": "light"
     },
     "output_type": "display_data"
    }
   ],
   "source": [
    "#Linear regression with Seven features\n",
    "independent_variable_train = X_train[:,0:9]\n",
    "\n",
    "linreg = LinearRegression(normalize=True)\n",
    "linreg.fit(independent_variable_train,y_train)\n",
    "y_train_pred = linreg.predict(independent_variable_train)\n",
    "\n",
    "rss_train = sum((y_train_pred-y_train)**2) / X_train.shape[0]\n",
    "\n",
    "independent_variable_test = X_test[:,0:9]\n",
    "y_test_pred = linreg.predict(independent_variable_test)\n",
    "rss_test = sum((y_test_pred-y_test)**2)/ X_test.shape[0]\n",
    "\n",
    "print(\"Training Error\", rss_train)\n",
    "print(\"Testing Error\",rss_test)\n",
    "\n",
    "plt.plot(X_train[:,0:1],y_train_pred)\n",
    "plt.plot(X_train[:,0:1],y_train,'.')"
   ]
  },
  {
   "cell_type": "code",
   "execution_count": 15,
   "metadata": {
    "colab": {},
    "colab_type": "code",
    "id": "s3Cd83HrIfOk"
   },
   "outputs": [],
   "source": [
    "# defining a function which will fit linear regression model, plot the results, and return the coefficients\n",
    "def linear_regression(train_x, train_y, test_x, test_y, features, models_to_plot):\n",
    "        \n",
    "    #Fit the model\n",
    "    linreg = LinearRegression(normalize=True)\n",
    "    linreg.fit(train_x,train_y)\n",
    "    train_y_pred = linreg.predict(train_x)\n",
    "    test_y_pred = linreg.predict(test_x)\n",
    "    \n",
    "    #Check if a plot is to be made for the entered features\n",
    "    if features in models_to_plot:\n",
    "        plt.subplot(models_to_plot[features])\n",
    "        plt.tight_layout()\n",
    "        plt.plot(train_x[:,0:1],train_y_pred)\n",
    "        \n",
    "        plt.plot(train_x[:,0:1],train_y,'.')\n",
    "        \n",
    "        plt.title('Number of Predictors: %d'%features)\n",
    "    \n",
    "    #Return the result in pre-defined format\n",
    "    rss_train = sum((train_y_pred-train_y)**2)/train_x.shape[0]\n",
    "    ret = [rss_train]\n",
    "    \n",
    "    rss_test = sum((test_y_pred-test_y)**2)/test_x.shape[0]\n",
    "    ret.extend([rss_test])\n",
    "    \n",
    "    ret.extend([linreg.intercept_])\n",
    "    ret.extend(linreg.coef_)\n",
    "    \n",
    "    return ret"
   ]
  },
  {
   "cell_type": "code",
   "execution_count": 16,
   "metadata": {
    "colab": {},
    "colab_type": "code",
    "id": "dTH2mkB3IfOm"
   },
   "outputs": [],
   "source": [
    "#Initialize a dataframe to store the results:\n",
    "col = ['mrss_train','mrss_test','intercept'] + ['coef_Var_%d'%i for i in range(1,16)]\n",
    "ind = ['Number_of_variable_%d'%i for i in range(1,16)]\n",
    "coef_matrix_simple = pd.DataFrame(index=ind, columns=col)"
   ]
  },
  {
   "cell_type": "code",
   "execution_count": 17,
   "metadata": {
    "colab": {},
    "colab_type": "code",
    "id": "wkc3Cg_sIfOr"
   },
   "outputs": [],
   "source": [
    "#Define the number of features for which a plot is required:\n",
    "models_to_plot = {1:231,3:232,6:233,9:234,12:235,15:236}"
   ]
  },
  {
   "cell_type": "code",
   "execution_count": 18,
   "metadata": {
    "colab": {
     "base_uri": "https://localhost:8080/",
     "height": 585
    },
    "colab_type": "code",
    "executionInfo": {
     "elapsed": 6015,
     "status": "ok",
     "timestamp": 1560001051123,
     "user": {
      "displayName": "Sharoon Saxena",
      "photoUrl": "",
      "userId": "14774175216384036942"
     },
     "user_tz": -330
    },
    "id": "latyKt6WIfOu",
    "outputId": "d4a6c677-a4ea-4bda-ed2c-3ae83f50704f"
   },
   "outputs": [
    {
     "data": {
      "image/png": "[encoded data removed]",
      "text/plain": [
       "<Figure size 864x576 with 6 Axes>"
      ]
     },
     "metadata": {
      "needs_background": "light"
     },
     "output_type": "display_data"
    }
   ],
   "source": [
    "#Iterate through all powers and store the results in a matrix form\n",
    "plt.figure(figsize=(12,8))\n",
    "for i in range(1,16):\n",
    "    train_x = X_train[:,0:i]\n",
    "    train_y = y_train\n",
    "    test_x = X_test[:,0:i]\n",
    "    test_y = y_test\n",
    "    \n",
    "    coef_matrix_simple.iloc[i-1,0:i+3] = linear_regression(train_x,train_y, test_x, test_y, features=i, models_to_plot=models_to_plot)"
   ]
  },
  {
   "cell_type": "code",
   "execution_count": 19,
   "metadata": {
    "colab": {
     "base_uri": "https://localhost:8080/",
     "height": 534
    },
    "colab_type": "code",
    "executionInfo": {
     "elapsed": 6001,
     "status": "ok",
     "timestamp": 1560001051128,
     "user": {
      "displayName": "Sharoon Saxena",
      "photoUrl": "",
      "userId": "14774175216384036942"
     },
     "user_tz": -330
    },
    "id": "4fQrthy0IfOy",
    "outputId": "36b92a58-c81c-45dc-da44-3d6b3d3a7ad3"
   },
   "outputs": [
    {
     "data": {
      "text/html": [
       "<div>\n",
       "<style scoped>\n",
       "    .dataframe tbody tr th:only-of-type {\n",
       "        vertical-align: middle;\n",
       "    }\n",
       "\n",
       "    .dataframe tbody tr th {\n",
       "        vertical-align: top;\n",
       "    }\n",
       "\n",
       "    .dataframe thead th {\n",
       "        text-align: right;\n",
       "    }\n",
       "</style>\n",
       "<table border=\"1\" class=\"dataframe\">\n",
       "  <thead>\n",
       "    <tr style=\"text-align: right;\">\n",
       "      <th></th>\n",
       "      <th>mrss_train</th>\n",
       "      <th>mrss_test</th>\n",
       "      <th>intercept</th>\n",
       "      <th>coef_Var_1</th>\n",
       "      <th>coef_Var_2</th>\n",
       "      <th>coef_Var_3</th>\n",
       "      <th>coef_Var_4</th>\n",
       "      <th>coef_Var_5</th>\n",
       "      <th>coef_Var_6</th>\n",
       "      <th>coef_Var_7</th>\n",
       "      <th>coef_Var_8</th>\n",
       "      <th>coef_Var_9</th>\n",
       "      <th>coef_Var_10</th>\n",
       "      <th>coef_Var_11</th>\n",
       "      <th>coef_Var_12</th>\n",
       "      <th>coef_Var_13</th>\n",
       "      <th>coef_Var_14</th>\n",
       "      <th>coef_Var_15</th>\n",
       "    </tr>\n",
       "  </thead>\n",
       "  <tbody>\n",
       "    <tr>\n",
       "      <td>Number_of_variable_1</td>\n",
       "      <td>0.21</td>\n",
       "      <td>0.19</td>\n",
       "      <td>1</td>\n",
       "      <td>-0.31</td>\n",
       "      <td>NaN</td>\n",
       "      <td>NaN</td>\n",
       "      <td>NaN</td>\n",
       "      <td>NaN</td>\n",
       "      <td>NaN</td>\n",
       "      <td>NaN</td>\n",
       "      <td>NaN</td>\n",
       "      <td>NaN</td>\n",
       "      <td>NaN</td>\n",
       "      <td>NaN</td>\n",
       "      <td>NaN</td>\n",
       "      <td>NaN</td>\n",
       "      <td>NaN</td>\n",
       "      <td>NaN</td>\n",
       "    </tr>\n",
       "    <tr>\n",
       "      <td>Number_of_variable_2</td>\n",
       "      <td>0.21</td>\n",
       "      <td>0.19</td>\n",
       "      <td>1.1</td>\n",
       "      <td>-0.39</td>\n",
       "      <td>0.012</td>\n",
       "      <td>NaN</td>\n",
       "      <td>NaN</td>\n",
       "      <td>NaN</td>\n",
       "      <td>NaN</td>\n",
       "      <td>NaN</td>\n",
       "      <td>NaN</td>\n",
       "      <td>NaN</td>\n",
       "      <td>NaN</td>\n",
       "      <td>NaN</td>\n",
       "      <td>NaN</td>\n",
       "      <td>NaN</td>\n",
       "      <td>NaN</td>\n",
       "      <td>NaN</td>\n",
       "    </tr>\n",
       "    <tr>\n",
       "      <td>Number_of_variable_3</td>\n",
       "      <td>0.021</td>\n",
       "      <td>0.03</td>\n",
       "      <td>-0.4</td>\n",
       "      <td>2.2</td>\n",
       "      <td>-0.99</td>\n",
       "      <td>0.1</td>\n",
       "      <td>NaN</td>\n",
       "      <td>NaN</td>\n",
       "      <td>NaN</td>\n",
       "      <td>NaN</td>\n",
       "      <td>NaN</td>\n",
       "      <td>NaN</td>\n",
       "      <td>NaN</td>\n",
       "      <td>NaN</td>\n",
       "      <td>NaN</td>\n",
       "      <td>NaN</td>\n",
       "      <td>NaN</td>\n",
       "      <td>NaN</td>\n",
       "    </tr>\n",
       "    <tr>\n",
       "      <td>Number_of_variable_4</td>\n",
       "      <td>0.021</td>\n",
       "      <td>0.03</td>\n",
       "      <td>-0.43</td>\n",
       "      <td>2.3</td>\n",
       "      <td>-1</td>\n",
       "      <td>0.12</td>\n",
       "      <td>-0.001</td>\n",
       "      <td>NaN</td>\n",
       "      <td>NaN</td>\n",
       "      <td>NaN</td>\n",
       "      <td>NaN</td>\n",
       "      <td>NaN</td>\n",
       "      <td>NaN</td>\n",
       "      <td>NaN</td>\n",
       "      <td>NaN</td>\n",
       "      <td>NaN</td>\n",
       "      <td>NaN</td>\n",
       "      <td>NaN</td>\n",
       "    </tr>\n",
       "    <tr>\n",
       "      <td>Number_of_variable_5</td>\n",
       "      <td>0.02</td>\n",
       "      <td>0.023</td>\n",
       "      <td>-0.096</td>\n",
       "      <td>1.2</td>\n",
       "      <td>0.0084</td>\n",
       "      <td>-0.29</td>\n",
       "      <td>0.069</td>\n",
       "      <td>-0.0043</td>\n",
       "      <td>NaN</td>\n",
       "      <td>NaN</td>\n",
       "      <td>NaN</td>\n",
       "      <td>NaN</td>\n",
       "      <td>NaN</td>\n",
       "      <td>NaN</td>\n",
       "      <td>NaN</td>\n",
       "      <td>NaN</td>\n",
       "      <td>NaN</td>\n",
       "      <td>NaN</td>\n",
       "    </tr>\n",
       "    <tr>\n",
       "      <td>Number_of_variable_6</td>\n",
       "      <td>0.019</td>\n",
       "      <td>0.028</td>\n",
       "      <td>-0.4</td>\n",
       "      <td>2.5</td>\n",
       "      <td>-1.6</td>\n",
       "      <td>0.66</td>\n",
       "      <td>-0.2</td>\n",
       "      <td>0.031</td>\n",
       "      <td>-0.0018</td>\n",
       "      <td>NaN</td>\n",
       "      <td>NaN</td>\n",
       "      <td>NaN</td>\n",
       "      <td>NaN</td>\n",
       "      <td>NaN</td>\n",
       "      <td>NaN</td>\n",
       "      <td>NaN</td>\n",
       "      <td>NaN</td>\n",
       "      <td>NaN</td>\n",
       "    </tr>\n",
       "    <tr>\n",
       "      <td>Number_of_variable_7</td>\n",
       "      <td>0.019</td>\n",
       "      <td>0.028</td>\n",
       "      <td>-0.38</td>\n",
       "      <td>2.4</td>\n",
       "      <td>-1.5</td>\n",
       "      <td>0.53</td>\n",
       "      <td>-0.15</td>\n",
       "      <td>0.021</td>\n",
       "      <td>-0.00067</td>\n",
       "      <td>-5.1e-05</td>\n",
       "      <td>NaN</td>\n",
       "      <td>NaN</td>\n",
       "      <td>NaN</td>\n",
       "      <td>NaN</td>\n",
       "      <td>NaN</td>\n",
       "      <td>NaN</td>\n",
       "      <td>NaN</td>\n",
       "      <td>NaN</td>\n",
       "    </tr>\n",
       "    <tr>\n",
       "      <td>Number_of_variable_8</td>\n",
       "      <td>0.019</td>\n",
       "      <td>0.032</td>\n",
       "      <td>-0.85</td>\n",
       "      <td>5.1</td>\n",
       "      <td>-7</td>\n",
       "      <td>6</td>\n",
       "      <td>-3.1</td>\n",
       "      <td>0.92</td>\n",
       "      <td>-0.16</td>\n",
       "      <td>0.015</td>\n",
       "      <td>-0.00058</td>\n",
       "      <td>NaN</td>\n",
       "      <td>NaN</td>\n",
       "      <td>NaN</td>\n",
       "      <td>NaN</td>\n",
       "      <td>NaN</td>\n",
       "      <td>NaN</td>\n",
       "      <td>NaN</td>\n",
       "    </tr>\n",
       "    <tr>\n",
       "      <td>Number_of_variable_9</td>\n",
       "      <td>0.019</td>\n",
       "      <td>0.032</td>\n",
       "      <td>-0.94</td>\n",
       "      <td>5.7</td>\n",
       "      <td>-8.5</td>\n",
       "      <td>7.7</td>\n",
       "      <td>-4.3</td>\n",
       "      <td>1.4</td>\n",
       "      <td>-0.28</td>\n",
       "      <td>0.033</td>\n",
       "      <td>-0.002</td>\n",
       "      <td>5e-05</td>\n",
       "      <td>NaN</td>\n",
       "      <td>NaN</td>\n",
       "      <td>NaN</td>\n",
       "      <td>NaN</td>\n",
       "      <td>NaN</td>\n",
       "      <td>NaN</td>\n",
       "    </tr>\n",
       "    <tr>\n",
       "      <td>Number_of_variable_10</td>\n",
       "      <td>0.018</td>\n",
       "      <td>0.044</td>\n",
       "      <td>-2.4</td>\n",
       "      <td>16</td>\n",
       "      <td>-38</td>\n",
       "      <td>50</td>\n",
       "      <td>-39</td>\n",
       "      <td>19</td>\n",
       "      <td>-6</td>\n",
       "      <td>1.2</td>\n",
       "      <td>-0.15</td>\n",
       "      <td>0.011</td>\n",
       "      <td>-0.00033</td>\n",
       "      <td>NaN</td>\n",
       "      <td>NaN</td>\n",
       "      <td>NaN</td>\n",
       "      <td>NaN</td>\n",
       "      <td>NaN</td>\n",
       "    </tr>\n",
       "    <tr>\n",
       "      <td>Number_of_variable_11</td>\n",
       "      <td>0.018</td>\n",
       "      <td>0.034</td>\n",
       "      <td>-0.34</td>\n",
       "      <td>-0.37</td>\n",
       "      <td>15</td>\n",
       "      <td>-38</td>\n",
       "      <td>47</td>\n",
       "      <td>-34</td>\n",
       "      <td>16</td>\n",
       "      <td>-4.7</td>\n",
       "      <td>0.9</td>\n",
       "      <td>-0.11</td>\n",
       "      <td>0.0073</td>\n",
       "      <td>-0.00021</td>\n",
       "      <td>NaN</td>\n",
       "      <td>NaN</td>\n",
       "      <td>NaN</td>\n",
       "      <td>NaN</td>\n",
       "    </tr>\n",
       "    <tr>\n",
       "      <td>Number_of_variable_12</td>\n",
       "      <td>0.018</td>\n",
       "      <td>0.028</td>\n",
       "      <td>1.6</td>\n",
       "      <td>-18</td>\n",
       "      <td>78</td>\n",
       "      <td>-1.6e+02</td>\n",
       "      <td>1.8e+02</td>\n",
       "      <td>-1.4e+02</td>\n",
       "      <td>67</td>\n",
       "      <td>-22</td>\n",
       "      <td>4.9</td>\n",
       "      <td>-0.74</td>\n",
       "      <td>0.071</td>\n",
       "      <td>-0.0039</td>\n",
       "      <td>9.5e-05</td>\n",
       "      <td>NaN</td>\n",
       "      <td>NaN</td>\n",
       "      <td>NaN</td>\n",
       "    </tr>\n",
       "    <tr>\n",
       "      <td>Number_of_variable_13</td>\n",
       "      <td>0.018</td>\n",
       "      <td>0.029</td>\n",
       "      <td>0.84</td>\n",
       "      <td>-10</td>\n",
       "      <td>47</td>\n",
       "      <td>-92</td>\n",
       "      <td>98</td>\n",
       "      <td>-62</td>\n",
       "      <td>23</td>\n",
       "      <td>-3.9</td>\n",
       "      <td>-0.31</td>\n",
       "      <td>0.32</td>\n",
       "      <td>-0.077</td>\n",
       "      <td>0.0095</td>\n",
       "      <td>-0.00062</td>\n",
       "      <td>1.7e-05</td>\n",
       "      <td>NaN</td>\n",
       "      <td>NaN</td>\n",
       "    </tr>\n",
       "    <tr>\n",
       "      <td>Number_of_variable_14</td>\n",
       "      <td>0.017</td>\n",
       "      <td>0.056</td>\n",
       "      <td>-5.5</td>\n",
       "      <td>57</td>\n",
       "      <td>-2.4e+02</td>\n",
       "      <td>6e+02</td>\n",
       "      <td>-9.3e+02</td>\n",
       "      <td>9.5e+02</td>\n",
       "      <td>-6.7e+02</td>\n",
       "      <td>3.3e+02</td>\n",
       "      <td>-1.2e+02</td>\n",
       "      <td>30</td>\n",
       "      <td>-5.3</td>\n",
       "      <td>0.67</td>\n",
       "      <td>-0.055</td>\n",
       "      <td>0.0027</td>\n",
       "      <td>-5.9e-05</td>\n",
       "      <td>NaN</td>\n",
       "    </tr>\n",
       "    <tr>\n",
       "      <td>Number_of_variable_15</td>\n",
       "      <td>0.016</td>\n",
       "      <td>0.2</td>\n",
       "      <td>-25</td>\n",
       "      <td>2.7e+02</td>\n",
       "      <td>-1.3e+03</td>\n",
       "      <td>3.3e+03</td>\n",
       "      <td>-5.4e+03</td>\n",
       "      <td>5.9e+03</td>\n",
       "      <td>-4.5e+03</td>\n",
       "      <td>2.5e+03</td>\n",
       "      <td>-1e+03</td>\n",
       "      <td>3e+02</td>\n",
       "      <td>-65</td>\n",
       "      <td>10</td>\n",
       "      <td>-1.2</td>\n",
       "      <td>0.086</td>\n",
       "      <td>-0.0039</td>\n",
       "      <td>7.9e-05</td>\n",
       "    </tr>\n",
       "  </tbody>\n",
       "</table>\n",
       "</div>"
      ],
      "text/plain": [
       "                      mrss_train mrss_test intercept coef_Var_1 coef_Var_2  \\\n",
       "Number_of_variable_1        0.21      0.19         1      -0.31        NaN   \n",
       "Number_of_variable_2        0.21      0.19       1.1      -0.39      0.012   \n",
       "Number_of_variable_3       0.021      0.03      -0.4        2.2      -0.99   \n",
       "Number_of_variable_4       0.021      0.03     -0.43        2.3         -1   \n",
       "Number_of_variable_5        0.02     0.023    -0.096        1.2     0.0084   \n",
       "Number_of_variable_6       0.019     0.028      -0.4        2.5       -1.6   \n",
       "Number_of_variable_7       0.019     0.028     -0.38        2.4       -1.5   \n",
       "Number_of_variable_8       0.019     0.032     -0.85        5.1         -7   \n",
       "Number_of_variable_9       0.019     0.032     -0.94        5.7       -8.5   \n",
       "Number_of_variable_10      0.018     0.044      -2.4         16        -38   \n",
       "Number_of_variable_11      0.018     0.034     -0.34      -0.37         15   \n",
       "Number_of_variable_12      0.018     0.028       1.6        -18         78   \n",
       "Number_of_variable_13      0.018     0.029      0.84        -10         47   \n",
       "Number_of_variable_14      0.017     0.056      -5.5         57   -2.4e+02   \n",
       "Number_of_variable_15      0.016       0.2       -25    2.7e+02   -1.3e+03   \n",
       "\n",
       "                      coef_Var_3 coef_Var_4 coef_Var_5 coef_Var_6 coef_Var_7  \\\n",
       "Number_of_variable_1         NaN        NaN        NaN        NaN        NaN   \n",
       "Number_of_variable_2         NaN        NaN        NaN        NaN        NaN   \n",
       "Number_of_variable_3         0.1        NaN        NaN        NaN        NaN   \n",
       "Number_of_variable_4        0.12     -0.001        NaN        NaN        NaN   \n",
       "Number_of_variable_5       -0.29      0.069    -0.0043        NaN        NaN   \n",
       "Number_of_variable_6        0.66       -0.2      0.031    -0.0018        NaN   \n",
       "Number_of_variable_7        0.53      -0.15      0.021   -0.00067   -5.1e-05   \n",
       "Number_of_variable_8           6       -3.1       0.92      -0.16      0.015   \n",
       "Number_of_variable_9         7.7       -4.3        1.4      -0.28      0.033   \n",
       "Number_of_variable_10         50        -39         19         -6        1.2   \n",
       "Number_of_variable_11        -38         47        -34         16       -4.7   \n",
       "Number_of_variable_12   -1.6e+02    1.8e+02   -1.4e+02         67        -22   \n",
       "Number_of_variable_13        -92         98        -62         23       -3.9   \n",
       "Number_of_variable_14      6e+02   -9.3e+02    9.5e+02   -6.7e+02    3.3e+02   \n",
       "Number_of_variable_15    3.3e+03   -5.4e+03    5.9e+03   -4.5e+03    2.5e+03   \n",
       "\n",
       "                      coef_Var_8 coef_Var_9 coef_Var_10 coef_Var_11  \\\n",
       "Number_of_variable_1         NaN        NaN         NaN         NaN   \n",
       "Number_of_variable_2         NaN        NaN         NaN         NaN   \n",
       "Number_of_variable_3         NaN        NaN         NaN         NaN   \n",
       "Number_of_variable_4         NaN        NaN         NaN         NaN   \n",
       "Number_of_variable_5         NaN        NaN         NaN         NaN   \n",
       "Number_of_variable_6         NaN        NaN         NaN         NaN   \n",
       "Number_of_variable_7         NaN        NaN         NaN         NaN   \n",
       "Number_of_variable_8    -0.00058        NaN         NaN         NaN   \n",
       "Number_of_variable_9      -0.002      5e-05         NaN         NaN   \n",
       "Number_of_variable_10      -0.15      0.011    -0.00033         NaN   \n",
       "Number_of_variable_11        0.9      -0.11      0.0073    -0.00021   \n",
       "Number_of_variable_12        4.9      -0.74       0.071     -0.0039   \n",
       "Number_of_variable_13      -0.31       0.32      -0.077      0.0095   \n",
       "Number_of_variable_14   -1.2e+02         30        -5.3        0.67   \n",
       "Number_of_variable_15     -1e+03      3e+02         -65          10   \n",
       "\n",
       "                      coef_Var_12 coef_Var_13 coef_Var_14 coef_Var_15  \n",
       "Number_of_variable_1          NaN         NaN         NaN         NaN  \n",
       "Number_of_variable_2          NaN         NaN         NaN         NaN  \n",
       "Number_of_variable_3          NaN         NaN         NaN         NaN  \n",
       "Number_of_variable_4          NaN         NaN         NaN         NaN  \n",
       "Number_of_variable_5          NaN         NaN         NaN         NaN  \n",
       "Number_of_variable_6          NaN         NaN         NaN         NaN  \n",
       "Number_of_variable_7          NaN         NaN         NaN         NaN  \n",
       "Number_of_variable_8          NaN         NaN         NaN         NaN  \n",
       "Number_of_variable_9          NaN         NaN         NaN         NaN  \n",
       "Number_of_variable_10         NaN         NaN         NaN         NaN  \n",
       "Number_of_variable_11         NaN         NaN         NaN         NaN  \n",
       "Number_of_variable_12     9.5e-05         NaN         NaN         NaN  \n",
       "Number_of_variable_13    -0.00062     1.7e-05         NaN         NaN  \n",
       "Number_of_variable_14      -0.055      0.0027    -5.9e-05         NaN  \n",
       "Number_of_variable_15        -1.2       0.086     -0.0039     7.9e-05  "
      ]
     },
     "execution_count": 19,
     "metadata": {},
     "output_type": "execute_result"
    }
   ],
   "source": [
    "#Set the display format to be scientific for ease of analysis\n",
    "pd.options.display.float_format = '{:,.2g}'.format\n",
    "coef_matrix_simple"
   ]
  },
  {
   "cell_type": "code",
   "execution_count": 20,
   "metadata": {
    "colab": {
     "base_uri": "https://localhost:8080/",
     "height": 301
    },
    "colab_type": "code",
    "executionInfo": {
     "elapsed": 5987,
     "status": "ok",
     "timestamp": 1560001051129,
     "user": {
      "displayName": "Sharoon Saxena",
      "photoUrl": "",
      "userId": "14774175216384036942"
     },
     "user_tz": -330
    },
    "id": "WLcisBSWIfO3",
    "outputId": "2aae6f2d-9958-46d7-ffb3-d27e9ec839c5"
   },
   "outputs": [
    {
     "data": {
      "text/plain": [
       "<matplotlib.legend.Legend at 0x162ef4f5c88>"
      ]
     },
     "execution_count": 20,
     "metadata": {},
     "output_type": "execute_result"
    },
    {
     "data": {
      "image/png": "[encoded data removed]",
      "text/plain": [
       "<Figure size 432x288 with 1 Axes>"
      ]
     },
     "metadata": {
      "needs_background": "light"
     },
     "output_type": "display_data"
    }
   ],
   "source": [
    "coef_matrix_simple[['mrss_train','mrss_test']].plot()\n",
    "plt.xlabel('Features')\n",
    "plt.ylabel('MRSS')\n",
    "plt.legend(['train', 'test'])"
   ]
  },
  {
   "cell_type": "markdown",
   "metadata": {
    "colab_type": "text",
    "id": "bGDBYdTKIfO8"
   },
   "source": [
    "## Ridge"
   ]
  },
  {
   "cell_type": "markdown",
   "metadata": {
    "colab_type": "text",
    "id": "C5DykPPUIfO9"
   },
   "source": [
    "<img src=\"ridge.png\">"
   ]
  },
  {
   "cell_type": "code",
   "execution_count": 21,
   "metadata": {
    "colab": {},
    "colab_type": "code",
    "id": "TMUFsw9kIfO-"
   },
   "outputs": [],
   "source": [
    "# Importing ridge from sklearn's linear_model module\n",
    "from sklearn.linear_model import Ridge"
   ]
  },
  {
   "cell_type": "code",
   "execution_count": 22,
   "metadata": {
    "colab": {},
    "colab_type": "code",
    "id": "dcWz79qrIfPA"
   },
   "outputs": [],
   "source": [
    "#Set the different values of alpha to be tested\n",
    "alpha_ridge = [0, 1e-8, 1e-4, 1e-3,1e-2, 1, 5, 10, 20, 25]"
   ]
  },
  {
   "cell_type": "code",
   "execution_count": 23,
   "metadata": {
    "colab": {},
    "colab_type": "code",
    "id": "0Q0SL-LBIfPB"
   },
   "outputs": [],
   "source": [
    "# defining a function which will fit ridge regression model, plot the results, and return the coefficients\n",
    "def ridge_regression(train_x, train_y, test_x, test_y, alpha, models_to_plot={}):\n",
    "    #Fit the model\n",
    "    ridgereg = Ridge(alpha=alpha,normalize=True)\n",
    "    ridgereg.fit(train_x,train_y)\n",
    "    train_y_pred = ridgereg.predict(train_x)\n",
    "    test_y_pred = ridgereg.predict(test_x)\n",
    "    \n",
    "    #Check if a plot is to be made for the entered alpha\n",
    "    if alpha in models_to_plot:\n",
    "        plt.subplot(models_to_plot[alpha])\n",
    "        plt.tight_layout()\n",
    "        plt.plot(train_x[:,0:1],train_y_pred)\n",
    "        plt.plot(train_x[:,0:1],train_y,'.')\n",
    "        plt.title('Plot for alpha: %.3g'%alpha)\n",
    "    \n",
    "    #Return the result in pre-defined format\n",
    "    mrss_train = sum((train_y_pred-train_y)**2)/train_x.shape[0]\n",
    "    ret = [mrss_train]\n",
    "    \n",
    "    mrss_test = sum((test_y_pred-test_y)**2)/test_x.shape[0]\n",
    "    ret.extend([mrss_test])\n",
    "    \n",
    "    ret.extend([ridgereg.intercept_])\n",
    "    ret.extend(ridgereg.coef_)\n",
    "    \n",
    "    return ret"
   ]
  },
  {
   "cell_type": "code",
   "execution_count": 24,
   "metadata": {
    "colab": {},
    "colab_type": "code",
    "id": "aBTiKo64IfPD"
   },
   "outputs": [],
   "source": [
    "#Initialize the dataframe for storing coefficients.\n",
    "col = ['mrss_train','mrss_test','intercept'] + ['coef_Var_%d'%i for i in range(1,16)]\n",
    "ind = ['alpha_%.2g'%alpha_ridge[i] for i in range(0,10)]\n",
    "coef_matrix_ridge = pd.DataFrame(index=ind, columns=col)"
   ]
  },
  {
   "cell_type": "code",
   "execution_count": 25,
   "metadata": {
    "colab": {},
    "colab_type": "code",
    "id": "h4S-DXa0IfPE"
   },
   "outputs": [],
   "source": [
    "#Define the alpha value for which a plot is required:\n",
    "models_to_plot = {0:231, 1e-4:232, 1e-3:233, 1e-2:234, 1:235, 5:236}"
   ]
  },
  {
   "cell_type": "code",
   "execution_count": 26,
   "metadata": {
    "colab": {
     "base_uri": "https://localhost:8080/",
     "height": 585
    },
    "colab_type": "code",
    "executionInfo": {
     "elapsed": 7225,
     "status": "ok",
     "timestamp": 1560001052386,
     "user": {
      "displayName": "Sharoon Saxena",
      "photoUrl": "",
      "userId": "14774175216384036942"
     },
     "user_tz": -330
    },
    "id": "E2AHmalFIfPF",
    "outputId": "fbd14c62-5de3-468d-d1a4-0bc4e37bcea4"
   },
   "outputs": [
    {
     "data": {
      "image/png": "[encoded data removed]",
      "text/plain": [
       "<Figure size 864x576 with 6 Axes>"
      ]
     },
     "metadata": {
      "needs_background": "light"
     },
     "output_type": "display_data"
    }
   ],
   "source": [
    "#Iterate over the 10 alpha values:\n",
    "plt.figure(figsize=(12,8))\n",
    "for i in range(10):\n",
    "    coef_matrix_ridge.iloc[i,] = ridge_regression(train_x, train_y, test_x, test_y, alpha_ridge[i], models_to_plot)"
   ]
  },
  {
   "cell_type": "code",
   "execution_count": 27,
   "metadata": {
    "colab": {
     "base_uri": "https://localhost:8080/",
     "height": 379
    },
    "colab_type": "code",
    "executionInfo": {
     "elapsed": 7216,
     "status": "ok",
     "timestamp": 1560001052387,
     "user": {
      "displayName": "Sharoon Saxena",
      "photoUrl": "",
      "userId": "14774175216384036942"
     },
     "user_tz": -330
    },
    "id": "GroQiE_FIfPH",
    "outputId": "b1e17d3e-ebae-41f5-d083-e6b496488c73"
   },
   "outputs": [
    {
     "data": {
      "text/html": [
       "<div>\n",
       "<style scoped>\n",
       "    .dataframe tbody tr th:only-of-type {\n",
       "        vertical-align: middle;\n",
       "    }\n",
       "\n",
       "    .dataframe tbody tr th {\n",
       "        vertical-align: top;\n",
       "    }\n",
       "\n",
       "    .dataframe thead th {\n",
       "        text-align: right;\n",
       "    }\n",
       "</style>\n",
       "<table border=\"1\" class=\"dataframe\">\n",
       "  <thead>\n",
       "    <tr style=\"text-align: right;\">\n",
       "      <th></th>\n",
       "      <th>mrss_train</th>\n",
       "      <th>mrss_test</th>\n",
       "      <th>intercept</th>\n",
       "      <th>coef_Var_1</th>\n",
       "      <th>coef_Var_2</th>\n",
       "      <th>coef_Var_3</th>\n",
       "      <th>coef_Var_4</th>\n",
       "      <th>coef_Var_5</th>\n",
       "      <th>coef_Var_6</th>\n",
       "      <th>coef_Var_7</th>\n",
       "      <th>coef_Var_8</th>\n",
       "      <th>coef_Var_9</th>\n",
       "      <th>coef_Var_10</th>\n",
       "      <th>coef_Var_11</th>\n",
       "      <th>coef_Var_12</th>\n",
       "      <th>coef_Var_13</th>\n",
       "      <th>coef_Var_14</th>\n",
       "      <th>coef_Var_15</th>\n",
       "    </tr>\n",
       "  </thead>\n",
       "  <tbody>\n",
       "    <tr>\n",
       "      <td>alpha_0</td>\n",
       "      <td>0.016</td>\n",
       "      <td>0.2</td>\n",
       "      <td>-25</td>\n",
       "      <td>2.7e+02</td>\n",
       "      <td>-1.3e+03</td>\n",
       "      <td>3.3e+03</td>\n",
       "      <td>-5.4e+03</td>\n",
       "      <td>5.9e+03</td>\n",
       "      <td>-4.5e+03</td>\n",
       "      <td>2.5e+03</td>\n",
       "      <td>-1e+03</td>\n",
       "      <td>3e+02</td>\n",
       "      <td>-65</td>\n",
       "      <td>10</td>\n",
       "      <td>-1.2</td>\n",
       "      <td>0.086</td>\n",
       "      <td>-0.0039</td>\n",
       "      <td>7.9e-05</td>\n",
       "    </tr>\n",
       "    <tr>\n",
       "      <td>alpha_1e-08</td>\n",
       "      <td>0.019</td>\n",
       "      <td>0.028</td>\n",
       "      <td>-0.37</td>\n",
       "      <td>2.3</td>\n",
       "      <td>-1.4</td>\n",
       "      <td>0.39</td>\n",
       "      <td>-0.059</td>\n",
       "      <td>-0.0037</td>\n",
       "      <td>0.00094</td>\n",
       "      <td>0.00022</td>\n",
       "      <td>1.5e-05</td>\n",
       "      <td>-3.2e-06</td>\n",
       "      <td>-1.1e-06</td>\n",
       "      <td>-1.5e-07</td>\n",
       "      <td>3.9e-09</td>\n",
       "      <td>6.1e-09</td>\n",
       "      <td>1.1e-09</td>\n",
       "      <td>-1.9e-10</td>\n",
       "    </tr>\n",
       "    <tr>\n",
       "      <td>alpha_0.0001</td>\n",
       "      <td>0.02</td>\n",
       "      <td>0.026</td>\n",
       "      <td>-0.023</td>\n",
       "      <td>1.2</td>\n",
       "      <td>-0.36</td>\n",
       "      <td>-0.023</td>\n",
       "      <td>0.0016</td>\n",
       "      <td>0.00058</td>\n",
       "      <td>9e-05</td>\n",
       "      <td>9.4e-06</td>\n",
       "      <td>5.5e-07</td>\n",
       "      <td>-4.1e-08</td>\n",
       "      <td>-2e-08</td>\n",
       "      <td>-3.9e-09</td>\n",
       "      <td>-5.6e-10</td>\n",
       "      <td>-5.3e-11</td>\n",
       "      <td>9.2e-14</td>\n",
       "      <td>1.6e-12</td>\n",
       "    </tr>\n",
       "    <tr>\n",
       "      <td>alpha_0.001</td>\n",
       "      <td>0.028</td>\n",
       "      <td>0.034</td>\n",
       "      <td>0.28</td>\n",
       "      <td>0.72</td>\n",
       "      <td>-0.19</td>\n",
       "      <td>-0.021</td>\n",
       "      <td>-0.00068</td>\n",
       "      <td>0.00019</td>\n",
       "      <td>5.2e-05</td>\n",
       "      <td>9e-06</td>\n",
       "      <td>1.2e-06</td>\n",
       "      <td>1.4e-07</td>\n",
       "      <td>1.1e-08</td>\n",
       "      <td>1.8e-10</td>\n",
       "      <td>-2e-10</td>\n",
       "      <td>-6e-11</td>\n",
       "      <td>-1.3e-11</td>\n",
       "      <td>-2.3e-12</td>\n",
       "    </tr>\n",
       "    <tr>\n",
       "      <td>alpha_0.01</td>\n",
       "      <td>0.059</td>\n",
       "      <td>0.058</td>\n",
       "      <td>0.7</td>\n",
       "      <td>0.17</td>\n",
       "      <td>-0.075</td>\n",
       "      <td>-0.011</td>\n",
       "      <td>-0.00085</td>\n",
       "      <td>-1.7e-06</td>\n",
       "      <td>1.6e-05</td>\n",
       "      <td>4e-06</td>\n",
       "      <td>7.4e-07</td>\n",
       "      <td>1.1e-07</td>\n",
       "      <td>1.5e-08</td>\n",
       "      <td>1.7e-09</td>\n",
       "      <td>1e-10</td>\n",
       "      <td>-1.4e-11</td>\n",
       "      <td>-7.6e-12</td>\n",
       "      <td>-2.1e-12</td>\n",
       "    </tr>\n",
       "    <tr>\n",
       "      <td>alpha_1</td>\n",
       "      <td>0.19</td>\n",
       "      <td>0.2</td>\n",
       "      <td>0.59</td>\n",
       "      <td>-0.093</td>\n",
       "      <td>-0.013</td>\n",
       "      <td>-0.0016</td>\n",
       "      <td>-0.00019</td>\n",
       "      <td>-2.1e-05</td>\n",
       "      <td>-1.9e-06</td>\n",
       "      <td>-1e-07</td>\n",
       "      <td>1.1e-08</td>\n",
       "      <td>5.6e-09</td>\n",
       "      <td>1.4e-09</td>\n",
       "      <td>3e-10</td>\n",
       "      <td>5.8e-11</td>\n",
       "      <td>1.1e-11</td>\n",
       "      <td>1.9e-12</td>\n",
       "      <td>3.3e-13</td>\n",
       "    </tr>\n",
       "    <tr>\n",
       "      <td>alpha_5</td>\n",
       "      <td>0.35</td>\n",
       "      <td>0.37</td>\n",
       "      <td>0.29</td>\n",
       "      <td>-0.036</td>\n",
       "      <td>-0.0049</td>\n",
       "      <td>-0.00066</td>\n",
       "      <td>-8.7e-05</td>\n",
       "      <td>-1.1e-05</td>\n",
       "      <td>-1.3e-06</td>\n",
       "      <td>-1.5e-07</td>\n",
       "      <td>-1.6e-08</td>\n",
       "      <td>-1.4e-09</td>\n",
       "      <td>-4.8e-11</td>\n",
       "      <td>1.7e-11</td>\n",
       "      <td>6.3e-12</td>\n",
       "      <td>1.5e-12</td>\n",
       "      <td>3.2e-13</td>\n",
       "      <td>6.2e-14</td>\n",
       "    </tr>\n",
       "    <tr>\n",
       "      <td>alpha_10</td>\n",
       "      <td>0.4</td>\n",
       "      <td>0.42</td>\n",
       "      <td>0.2</td>\n",
       "      <td>-0.022</td>\n",
       "      <td>-0.003</td>\n",
       "      <td>-0.00042</td>\n",
       "      <td>-5.7e-05</td>\n",
       "      <td>-7.6e-06</td>\n",
       "      <td>-1e-06</td>\n",
       "      <td>-1.3e-07</td>\n",
       "      <td>-1.7e-08</td>\n",
       "      <td>-2e-09</td>\n",
       "      <td>-2.4e-10</td>\n",
       "      <td>-2.6e-11</td>\n",
       "      <td>-2.3e-12</td>\n",
       "      <td>-9.4e-14</td>\n",
       "      <td>2.4e-14</td>\n",
       "      <td>9.6e-15</td>\n",
       "    </tr>\n",
       "    <tr>\n",
       "      <td>alpha_20</td>\n",
       "      <td>0.45</td>\n",
       "      <td>0.47</td>\n",
       "      <td>0.13</td>\n",
       "      <td>-0.012</td>\n",
       "      <td>-0.0017</td>\n",
       "      <td>-0.00025</td>\n",
       "      <td>-3.5e-05</td>\n",
       "      <td>-4.9e-06</td>\n",
       "      <td>-6.9e-07</td>\n",
       "      <td>-9.5e-08</td>\n",
       "      <td>-1.3e-08</td>\n",
       "      <td>-1.8e-09</td>\n",
       "      <td>-2.5e-10</td>\n",
       "      <td>-3.4e-11</td>\n",
       "      <td>-4.5e-12</td>\n",
       "      <td>-6e-13</td>\n",
       "      <td>-7.7e-14</td>\n",
       "      <td>-9.6e-15</td>\n",
       "    </tr>\n",
       "    <tr>\n",
       "      <td>alpha_25</td>\n",
       "      <td>0.46</td>\n",
       "      <td>0.48</td>\n",
       "      <td>0.11</td>\n",
       "      <td>-0.01</td>\n",
       "      <td>-0.0015</td>\n",
       "      <td>-0.00021</td>\n",
       "      <td>-3e-05</td>\n",
       "      <td>-4.2e-06</td>\n",
       "      <td>-5.9e-07</td>\n",
       "      <td>-8.4e-08</td>\n",
       "      <td>-1.2e-08</td>\n",
       "      <td>-1.7e-09</td>\n",
       "      <td>-2.3e-10</td>\n",
       "      <td>-3.2e-11</td>\n",
       "      <td>-4.5e-12</td>\n",
       "      <td>-6.2e-13</td>\n",
       "      <td>-8.5e-14</td>\n",
       "      <td>-1.1e-14</td>\n",
       "    </tr>\n",
       "  </tbody>\n",
       "</table>\n",
       "</div>"
      ],
      "text/plain": [
       "             mrss_train mrss_test intercept coef_Var_1 coef_Var_2 coef_Var_3  \\\n",
       "alpha_0           0.016       0.2       -25    2.7e+02   -1.3e+03    3.3e+03   \n",
       "alpha_1e-08       0.019     0.028     -0.37        2.3       -1.4       0.39   \n",
       "alpha_0.0001       0.02     0.026    -0.023        1.2      -0.36     -0.023   \n",
       "alpha_0.001       0.028     0.034      0.28       0.72      -0.19     -0.021   \n",
       "alpha_0.01        0.059     0.058       0.7       0.17     -0.075     -0.011   \n",
       "alpha_1            0.19       0.2      0.59     -0.093     -0.013    -0.0016   \n",
       "alpha_5            0.35      0.37      0.29     -0.036    -0.0049   -0.00066   \n",
       "alpha_10            0.4      0.42       0.2     -0.022     -0.003   -0.00042   \n",
       "alpha_20           0.45      0.47      0.13     -0.012    -0.0017   -0.00025   \n",
       "alpha_25           0.46      0.48      0.11      -0.01    -0.0015   -0.00021   \n",
       "\n",
       "             coef_Var_4 coef_Var_5 coef_Var_6 coef_Var_7 coef_Var_8  \\\n",
       "alpha_0        -5.4e+03    5.9e+03   -4.5e+03    2.5e+03     -1e+03   \n",
       "alpha_1e-08      -0.059    -0.0037    0.00094    0.00022    1.5e-05   \n",
       "alpha_0.0001     0.0016    0.00058      9e-05    9.4e-06    5.5e-07   \n",
       "alpha_0.001    -0.00068    0.00019    5.2e-05      9e-06    1.2e-06   \n",
       "alpha_0.01     -0.00085   -1.7e-06    1.6e-05      4e-06    7.4e-07   \n",
       "alpha_1        -0.00019   -2.1e-05   -1.9e-06     -1e-07    1.1e-08   \n",
       "alpha_5        -8.7e-05   -1.1e-05   -1.3e-06   -1.5e-07   -1.6e-08   \n",
       "alpha_10       -5.7e-05   -7.6e-06     -1e-06   -1.3e-07   -1.7e-08   \n",
       "alpha_20       -3.5e-05   -4.9e-06   -6.9e-07   -9.5e-08   -1.3e-08   \n",
       "alpha_25         -3e-05   -4.2e-06   -5.9e-07   -8.4e-08   -1.2e-08   \n",
       "\n",
       "             coef_Var_9 coef_Var_10 coef_Var_11 coef_Var_12 coef_Var_13  \\\n",
       "alpha_0           3e+02         -65          10        -1.2       0.086   \n",
       "alpha_1e-08    -3.2e-06    -1.1e-06    -1.5e-07     3.9e-09     6.1e-09   \n",
       "alpha_0.0001   -4.1e-08      -2e-08    -3.9e-09    -5.6e-10    -5.3e-11   \n",
       "alpha_0.001     1.4e-07     1.1e-08     1.8e-10      -2e-10      -6e-11   \n",
       "alpha_0.01      1.1e-07     1.5e-08     1.7e-09       1e-10    -1.4e-11   \n",
       "alpha_1         5.6e-09     1.4e-09       3e-10     5.8e-11     1.1e-11   \n",
       "alpha_5        -1.4e-09    -4.8e-11     1.7e-11     6.3e-12     1.5e-12   \n",
       "alpha_10         -2e-09    -2.4e-10    -2.6e-11    -2.3e-12    -9.4e-14   \n",
       "alpha_20       -1.8e-09    -2.5e-10    -3.4e-11    -4.5e-12      -6e-13   \n",
       "alpha_25       -1.7e-09    -2.3e-10    -3.2e-11    -4.5e-12    -6.2e-13   \n",
       "\n",
       "             coef_Var_14 coef_Var_15  \n",
       "alpha_0          -0.0039     7.9e-05  \n",
       "alpha_1e-08      1.1e-09    -1.9e-10  \n",
       "alpha_0.0001     9.2e-14     1.6e-12  \n",
       "alpha_0.001     -1.3e-11    -2.3e-12  \n",
       "alpha_0.01      -7.6e-12    -2.1e-12  \n",
       "alpha_1          1.9e-12     3.3e-13  \n",
       "alpha_5          3.2e-13     6.2e-14  \n",
       "alpha_10         2.4e-14     9.6e-15  \n",
       "alpha_20        -7.7e-14    -9.6e-15  \n",
       "alpha_25        -8.5e-14    -1.1e-14  "
      ]
     },
     "execution_count": 27,
     "metadata": {},
     "output_type": "execute_result"
    }
   ],
   "source": [
    "#Set the display format to be scientific for ease of analysis\n",
    "pd.options.display.float_format = '{:,.2g}'.format\n",
    "coef_matrix_ridge"
   ]
  },
  {
   "cell_type": "code",
   "execution_count": 28,
   "metadata": {
    "colab": {
     "base_uri": "https://localhost:8080/",
     "height": 204
    },
    "colab_type": "code",
    "executionInfo": {
     "elapsed": 7201,
     "status": "ok",
     "timestamp": 1560001052388,
     "user": {
      "displayName": "Sharoon Saxena",
      "photoUrl": "",
      "userId": "14774175216384036942"
     },
     "user_tz": -330
    },
    "id": "r2OInxZcIfPL",
    "outputId": "b85c4e88-7135-420a-af90-1aeb6f8cd350"
   },
   "outputs": [
    {
     "data": {
      "text/plain": [
       "alpha_0        0.016\n",
       "alpha_1e-08    0.019\n",
       "alpha_0.0001    0.02\n",
       "alpha_0.001    0.028\n",
       "alpha_0.01     0.059\n",
       "alpha_1         0.19\n",
       "alpha_5         0.35\n",
       "alpha_10         0.4\n",
       "alpha_20        0.45\n",
       "alpha_25        0.46\n",
       "Name: mrss_train, dtype: object"
      ]
     },
     "execution_count": 28,
     "metadata": {},
     "output_type": "execute_result"
    }
   ],
   "source": [
    "coef_matrix_ridge['mrss_train']"
   ]
  },
  {
   "cell_type": "code",
   "execution_count": 29,
   "metadata": {
    "colab": {
     "base_uri": "https://localhost:8080/",
     "height": 34
    },
    "colab_type": "code",
    "executionInfo": {
     "elapsed": 7192,
     "status": "ok",
     "timestamp": 1560001052389,
     "user": {
      "displayName": "Sharoon Saxena",
      "photoUrl": "",
      "userId": "14774175216384036942"
     },
     "user_tz": -330
    },
    "id": "BkvWtX9bIfPN",
    "outputId": "fa278550-9ff9-42c5-d209-fac24d733759"
   },
   "outputs": [
    {
     "data": {
      "text/plain": [
       "(10,)"
      ]
     },
     "execution_count": 29,
     "metadata": {},
     "output_type": "execute_result"
    }
   ],
   "source": [
    "coef_matrix_ridge['mrss_test'].shape"
   ]
  },
  {
   "cell_type": "code",
   "execution_count": 30,
   "metadata": {
    "colab": {
     "base_uri": "https://localhost:8080/",
     "height": 301
    },
    "colab_type": "code",
    "executionInfo": {
     "elapsed": 8153,
     "status": "ok",
     "timestamp": 1560001053361,
     "user": {
      "displayName": "Sharoon Saxena",
      "photoUrl": "",
      "userId": "14774175216384036942"
     },
     "user_tz": -330
    },
    "id": "Y6l4F43qIfPO",
    "outputId": "3c3b97cc-b21d-40e1-fcc3-032c54e72c7f"
   },
   "outputs": [
    {
     "data": {
      "text/plain": [
       "<matplotlib.legend.Legend at 0x162ef1baba8>"
      ]
     },
     "execution_count": 30,
     "metadata": {},
     "output_type": "execute_result"
    },
    {
     "data": {
      "image/png": "[encoded data removed]",
      "text/plain": [
       "<Figure size 432x288 with 1 Axes>"
      ]
     },
     "metadata": {
      "needs_background": "light"
     },
     "output_type": "display_data"
    }
   ],
   "source": [
    "coef_matrix_ridge[['mrss_train','mrss_test']].plot()\n",
    "plt.xlabel('Alpha Values')\n",
    "plt.ylabel('MRSS')\n",
    "plt.legend(['train', 'test'])"
   ]
  },
  {
   "cell_type": "code",
   "execution_count": 31,
   "metadata": {
    "colab": {
     "base_uri": "https://localhost:8080/",
     "height": 34
    },
    "colab_type": "code",
    "executionInfo": {
     "elapsed": 8143,
     "status": "ok",
     "timestamp": 1560001053363,
     "user": {
      "displayName": "Sharoon Saxena",
      "photoUrl": "",
      "userId": "14774175216384036942"
     },
     "user_tz": -330
    },
    "id": "ajxDxuQsIfPQ",
    "outputId": "940b96b7-836e-41b6-9869-cc379ab70fb2"
   },
   "outputs": [
    {
     "data": {
      "text/plain": [
       "[0, 1e-08, 0.0001, 0.001, 0.01, 1, 5, 10, 20, 25]"
      ]
     },
     "execution_count": 31,
     "metadata": {},
     "output_type": "execute_result"
    }
   ],
   "source": [
    "alpha_ridge"
   ]
  },
  {
   "cell_type": "code",
   "execution_count": 32,
   "metadata": {
    "colab": {
     "base_uri": "https://localhost:8080/",
     "height": 204
    },
    "colab_type": "code",
    "executionInfo": {
     "elapsed": 8135,
     "status": "ok",
     "timestamp": 1560001053365,
     "user": {
      "displayName": "Sharoon Saxena",
      "photoUrl": "",
      "userId": "14774175216384036942"
     },
     "user_tz": -330
    },
    "id": "gfibvH8zIfPT",
    "outputId": "5d443286-7611-4b8a-ca60-83bb7c5a40a6"
   },
   "outputs": [
    {
     "data": {
      "text/plain": [
       "alpha_0         0\n",
       "alpha_1e-08     0\n",
       "alpha_0.0001    0\n",
       "alpha_0.001     0\n",
       "alpha_0.01      0\n",
       "alpha_1         0\n",
       "alpha_5         0\n",
       "alpha_10        0\n",
       "alpha_20        0\n",
       "alpha_25        0\n",
       "dtype: int64"
      ]
     },
     "execution_count": 32,
     "metadata": {},
     "output_type": "execute_result"
    }
   ],
   "source": [
    "#Printing number of zeros in each row of the coefficients dataset\n",
    "coef_matrix_ridge.apply(lambda x: sum(x.values==0),axis=1)"
   ]
  },
  {
   "cell_type": "markdown",
   "metadata": {
    "colab_type": "text",
    "id": "HM0V4BHOIfPV"
   },
   "source": [
    "## Lasso"
   ]
  },
  {
   "cell_type": "markdown",
   "metadata": {
    "colab_type": "text",
    "id": "ZiB2hS3mIfPW"
   },
   "source": [
    "<img src=\"Lasso.png\">"
   ]
  },
  {
   "cell_type": "code",
   "execution_count": 0,
   "metadata": {
    "colab": {},
    "colab_type": "code",
    "id": "gpeAOxGzIfPW"
   },
   "outputs": [],
   "source": [
    "#Importing Lasso model from sklearn's linear_model module\n",
    "from sklearn.linear_model import Lasso"
   ]
  },
  {
   "cell_type": "code",
   "execution_count": 0,
   "metadata": {
    "colab": {},
    "colab_type": "code",
    "id": "HDs8KiFkIfPY"
   },
   "outputs": [],
   "source": [
    "#Define the alpha values to test\n",
    "alpha_lasso = [0, 1e-10, 1e-8, 1e-5,1e-4, 1e-3,1e-2, 1, 5, 10]"
   ]
  },
  {
   "cell_type": "code",
   "execution_count": 0,
   "metadata": {
    "colab": {},
    "colab_type": "code",
    "id": "rw0t5g0zIfPZ"
   },
   "outputs": [],
   "source": [
    "# defining a function which will fit lasso regression model, plot the results, and return the coefficients\n",
    "def lasso_regression(train_x, train_y, test_x, test_y, alpha, models_to_plot={}):\n",
    "    #Fit the model\n",
    "    if alpha == 0:\n",
    "        lassoreg = LinearRegression(normalize=True)\n",
    "        lassoreg.fit(train_x, train_y)\n",
    "        train_y_pred = lassoreg.predict(train_x)\n",
    "        test_y_pred = lassoreg.predict(test_x)\n",
    "        \n",
    "    else:\n",
    "        lassoreg = Lasso(alpha=alpha,normalize=True)\n",
    "        lassoreg.fit(train_x,train_y)\n",
    "        train_y_pred = lassoreg.predict(train_x)\n",
    "        test_y_pred = lassoreg.predict(test_x)\n",
    "    \n",
    "    #Check if a plot is to be made for the entered alpha\n",
    "    if alpha in models_to_plot:\n",
    "        plt.subplot(models_to_plot[alpha])\n",
    "        plt.tight_layout()\n",
    "        plt.plot(train_x[:,0:1],train_y_pred)\n",
    "        plt.plot(train_x[:,0:1],train_y,'.')\n",
    "        plt.title('Plot for alpha: %.3g'%alpha)\n",
    "    \n",
    "    #Return the result in pre-defined format\n",
    "    mrss_train = sum((train_y_pred-train_y)**2)/train_x.shape[0]\n",
    "    ret = [mrss_train]\n",
    "    \n",
    "    mrss_test = sum((test_y_pred-test_y)**2)/test_x.shape[0]\n",
    "    ret.extend([mrss_test])\n",
    "    \n",
    "    ret.extend([lassoreg.intercept_])\n",
    "    ret.extend(lassoreg.coef_)\n",
    "    \n",
    "    return ret"
   ]
  },
  {
   "cell_type": "code",
   "execution_count": 0,
   "metadata": {
    "colab": {},
    "colab_type": "code",
    "id": "usZBuL-RIfPd"
   },
   "outputs": [],
   "source": [
    "#Initialize the dataframe to store coefficients\n",
    "col = ['mrss_train','mrss_test','intercept'] + ['coef_Var_%d'%i for i in range(1,16)]\n",
    "ind = ['alpha_%.2g'%alpha_lasso[i] for i in range(0,10)]\n",
    "coef_matrix_lasso = pd.DataFrame(index=ind, columns=col)"
   ]
  },
  {
   "cell_type": "code",
   "execution_count": 0,
   "metadata": {
    "colab": {},
    "colab_type": "code",
    "id": "cpsWHPm8IfPf"
   },
   "outputs": [],
   "source": [
    "#Define the models to plot\n",
    "models_to_plot = {0:231, 1e-5:232,1e-4:233, 1e-3:234, 1e-2:235, 1:236}"
   ]
  },
  {
   "cell_type": "code",
   "execution_count": 38,
   "metadata": {
    "colab": {
     "base_uri": "https://localhost:8080/",
     "height": 741
    },
    "colab_type": "code",
    "executionInfo": {
     "elapsed": 9403,
     "status": "ok",
     "timestamp": 1560001054651,
     "user": {
      "displayName": "Sharoon Saxena",
      "photoUrl": "",
      "userId": "14774175216384036942"
     },
     "user_tz": -330
    },
    "id": "fHG-nUv6IfPh",
    "outputId": "94c1b370-5289-4b36-dba4-cc52f33272f0"
   },
   "outputs": [
    {
     "name": "stderr",
     "output_type": "stream",
     "text": [
      "/usr/local/lib/python3.6/dist-packages/sklearn/linear_model/coordinate_descent.py:475: ConvergenceWarning: Objective did not converge. You might want to increase the number of iterations. Duality gap: 0.7335671573239119, tolerance: 0.003983065126185542\n",
      "  positive)\n",
      "/usr/local/lib/python3.6/dist-packages/sklearn/linear_model/coordinate_descent.py:475: ConvergenceWarning: Objective did not converge. You might want to increase the number of iterations. Duality gap: 0.7333330322072867, tolerance: 0.003983065126185542\n",
      "  positive)\n",
      "/usr/local/lib/python3.6/dist-packages/sklearn/linear_model/coordinate_descent.py:475: ConvergenceWarning: Objective did not converge. You might want to increase the number of iterations. Duality gap: 0.5377192887699793, tolerance: 0.003983065126185542\n",
      "  positive)\n",
      "/usr/local/lib/python3.6/dist-packages/sklearn/linear_model/coordinate_descent.py:475: ConvergenceWarning: Objective did not converge. You might want to increase the number of iterations. Duality gap: 0.13553489107899752, tolerance: 0.003983065126185542\n",
      "  positive)\n"
     ]
    },
    {
     "data": {
      "image/png": "[encoded data removed]",
      "text/plain": [
       "<Figure size 864x576 with 6 Axes>"
      ]
     },
     "metadata": {
      "tags": []
     },
     "output_type": "display_data"
    }
   ],
   "source": [
    "#Iterate over the 10 alpha values:\n",
    "plt.figure(figsize=(12,8))\n",
    "for i in range(10):\n",
    "    coef_matrix_lasso.iloc[i,] = lasso_regression(train_x, train_y, test_x, test_y, alpha_lasso[i], models_to_plot)"
   ]
  },
  {
   "cell_type": "code",
   "execution_count": 39,
   "metadata": {
    "colab": {
     "base_uri": "https://localhost:8080/",
     "height": 379
    },
    "colab_type": "code",
    "executionInfo": {
     "elapsed": 9382,
     "status": "ok",
     "timestamp": 1560001054652,
     "user": {
      "displayName": "Sharoon Saxena",
      "photoUrl": "",
      "userId": "14774175216384036942"
     },
     "user_tz": -330
    },
    "id": "_kbNXIaoIfPj",
    "outputId": "f312ec9d-a309-41af-953c-f8df2cff28f4"
   },
   "outputs": [
    {
     "data": {
      "text/html": [
       "<div>\n",
       "<style scoped>\n",
       "    .dataframe tbody tr th:only-of-type {\n",
       "        vertical-align: middle;\n",
       "    }\n",
       "\n",
       "    .dataframe tbody tr th {\n",
       "        vertical-align: top;\n",
       "    }\n",
       "\n",
       "    .dataframe thead th {\n",
       "        text-align: right;\n",
       "    }\n",
       "</style>\n",
       "<table border=\"1\" class=\"dataframe\">\n",
       "  <thead>\n",
       "    <tr style=\"text-align: right;\">\n",
       "      <th></th>\n",
       "      <th>mrss_train</th>\n",
       "      <th>mrss_test</th>\n",
       "      <th>intercept</th>\n",
       "      <th>coef_Var_1</th>\n",
       "      <th>coef_Var_2</th>\n",
       "      <th>coef_Var_3</th>\n",
       "      <th>coef_Var_4</th>\n",
       "      <th>coef_Var_5</th>\n",
       "      <th>coef_Var_6</th>\n",
       "      <th>coef_Var_7</th>\n",
       "      <th>coef_Var_8</th>\n",
       "      <th>coef_Var_9</th>\n",
       "      <th>coef_Var_10</th>\n",
       "      <th>coef_Var_11</th>\n",
       "      <th>coef_Var_12</th>\n",
       "      <th>coef_Var_13</th>\n",
       "      <th>coef_Var_14</th>\n",
       "      <th>coef_Var_15</th>\n",
       "    </tr>\n",
       "  </thead>\n",
       "  <tbody>\n",
       "    <tr>\n",
       "      <th>alpha_0</th>\n",
       "      <td>0.016</td>\n",
       "      <td>0.2</td>\n",
       "      <td>-25</td>\n",
       "      <td>2.7e+02</td>\n",
       "      <td>-1.3e+03</td>\n",
       "      <td>3.3e+03</td>\n",
       "      <td>-5.4e+03</td>\n",
       "      <td>5.9e+03</td>\n",
       "      <td>-4.5e+03</td>\n",
       "      <td>2.5e+03</td>\n",
       "      <td>-1e+03</td>\n",
       "      <td>3e+02</td>\n",
       "      <td>-65</td>\n",
       "      <td>10</td>\n",
       "      <td>-1.2</td>\n",
       "      <td>0.086</td>\n",
       "      <td>-0.0039</td>\n",
       "      <td>7.9e-05</td>\n",
       "    </tr>\n",
       "    <tr>\n",
       "      <th>alpha_1e-10</th>\n",
       "      <td>0.02</td>\n",
       "      <td>0.027</td>\n",
       "      <td>-0.054</td>\n",
       "      <td>1.4</td>\n",
       "      <td>-0.44</td>\n",
       "      <td>-0.0036</td>\n",
       "      <td>0.0023</td>\n",
       "      <td>0.00039</td>\n",
       "      <td>4.7e-05</td>\n",
       "      <td>5e-06</td>\n",
       "      <td>4.5e-07</td>\n",
       "      <td>2.9e-08</td>\n",
       "      <td>-4e-10</td>\n",
       "      <td>-6.3e-10</td>\n",
       "      <td>-1.7e-10</td>\n",
       "      <td>-3.4e-11</td>\n",
       "      <td>-6.3e-12</td>\n",
       "      <td>-1.1e-12</td>\n",
       "    </tr>\n",
       "    <tr>\n",
       "      <th>alpha_1e-08</th>\n",
       "      <td>0.02</td>\n",
       "      <td>0.027</td>\n",
       "      <td>-0.054</td>\n",
       "      <td>1.4</td>\n",
       "      <td>-0.44</td>\n",
       "      <td>-0.0036</td>\n",
       "      <td>0.0023</td>\n",
       "      <td>0.00039</td>\n",
       "      <td>4.7e-05</td>\n",
       "      <td>5e-06</td>\n",
       "      <td>4.5e-07</td>\n",
       "      <td>2.9e-08</td>\n",
       "      <td>-4e-10</td>\n",
       "      <td>-6.3e-10</td>\n",
       "      <td>-1.7e-10</td>\n",
       "      <td>-3.4e-11</td>\n",
       "      <td>-6.3e-12</td>\n",
       "      <td>-1.1e-12</td>\n",
       "    </tr>\n",
       "    <tr>\n",
       "      <th>alpha_1e-05</th>\n",
       "      <td>0.02</td>\n",
       "      <td>0.027</td>\n",
       "      <td>-0.041</td>\n",
       "      <td>1.3</td>\n",
       "      <td>-0.44</td>\n",
       "      <td>-0.0032</td>\n",
       "      <td>0.002</td>\n",
       "      <td>0.0004</td>\n",
       "      <td>4.8e-05</td>\n",
       "      <td>5e-06</td>\n",
       "      <td>4.3e-07</td>\n",
       "      <td>2.4e-08</td>\n",
       "      <td>0</td>\n",
       "      <td>-0</td>\n",
       "      <td>-1.4e-10</td>\n",
       "      <td>-3.8e-11</td>\n",
       "      <td>-7e-12</td>\n",
       "      <td>-1.2e-12</td>\n",
       "    </tr>\n",
       "    <tr>\n",
       "      <th>alpha_0.0001</th>\n",
       "      <td>0.022</td>\n",
       "      <td>0.027</td>\n",
       "      <td>0.071</td>\n",
       "      <td>1.1</td>\n",
       "      <td>-0.38</td>\n",
       "      <td>-0</td>\n",
       "      <td>0</td>\n",
       "      <td>0.00042</td>\n",
       "      <td>5.9e-05</td>\n",
       "      <td>5.4e-06</td>\n",
       "      <td>3.1e-07</td>\n",
       "      <td>0</td>\n",
       "      <td>0</td>\n",
       "      <td>0</td>\n",
       "      <td>-0</td>\n",
       "      <td>-0</td>\n",
       "      <td>-2.8e-12</td>\n",
       "      <td>-2.6e-12</td>\n",
       "    </tr>\n",
       "    <tr>\n",
       "      <th>alpha_0.001</th>\n",
       "      <td>0.08</td>\n",
       "      <td>0.072</td>\n",
       "      <td>0.81</td>\n",
       "      <td>0.11</td>\n",
       "      <td>-0.11</td>\n",
       "      <td>-0</td>\n",
       "      <td>-0</td>\n",
       "      <td>0</td>\n",
       "      <td>0</td>\n",
       "      <td>0</td>\n",
       "      <td>9.6e-07</td>\n",
       "      <td>7.1e-08</td>\n",
       "      <td>0</td>\n",
       "      <td>0</td>\n",
       "      <td>0</td>\n",
       "      <td>0</td>\n",
       "      <td>0</td>\n",
       "      <td>0</td>\n",
       "    </tr>\n",
       "    <tr>\n",
       "      <th>alpha_0.01</th>\n",
       "      <td>0.18</td>\n",
       "      <td>0.17</td>\n",
       "      <td>0.89</td>\n",
       "      <td>-0.25</td>\n",
       "      <td>-0.0088</td>\n",
       "      <td>-0</td>\n",
       "      <td>-0</td>\n",
       "      <td>-0</td>\n",
       "      <td>0</td>\n",
       "      <td>0</td>\n",
       "      <td>0</td>\n",
       "      <td>0</td>\n",
       "      <td>0</td>\n",
       "      <td>0</td>\n",
       "      <td>0</td>\n",
       "      <td>0</td>\n",
       "      <td>0</td>\n",
       "      <td>8.1e-13</td>\n",
       "    </tr>\n",
       "    <tr>\n",
       "      <th>alpha_1</th>\n",
       "      <td>0.55</td>\n",
       "      <td>0.56</td>\n",
       "      <td>-0.003</td>\n",
       "      <td>-0</td>\n",
       "      <td>-0</td>\n",
       "      <td>-0</td>\n",
       "      <td>-0</td>\n",
       "      <td>-0</td>\n",
       "      <td>-0</td>\n",
       "      <td>-0</td>\n",
       "      <td>-0</td>\n",
       "      <td>-0</td>\n",
       "      <td>-0</td>\n",
       "      <td>-0</td>\n",
       "      <td>-0</td>\n",
       "      <td>-0</td>\n",
       "      <td>-0</td>\n",
       "      <td>-0</td>\n",
       "    </tr>\n",
       "    <tr>\n",
       "      <th>alpha_5</th>\n",
       "      <td>0.55</td>\n",
       "      <td>0.56</td>\n",
       "      <td>-0.003</td>\n",
       "      <td>-0</td>\n",
       "      <td>-0</td>\n",
       "      <td>-0</td>\n",
       "      <td>-0</td>\n",
       "      <td>-0</td>\n",
       "      <td>-0</td>\n",
       "      <td>-0</td>\n",
       "      <td>-0</td>\n",
       "      <td>-0</td>\n",
       "      <td>-0</td>\n",
       "      <td>-0</td>\n",
       "      <td>-0</td>\n",
       "      <td>-0</td>\n",
       "      <td>-0</td>\n",
       "      <td>-0</td>\n",
       "    </tr>\n",
       "    <tr>\n",
       "      <th>alpha_10</th>\n",
       "      <td>0.55</td>\n",
       "      <td>0.56</td>\n",
       "      <td>-0.003</td>\n",
       "      <td>-0</td>\n",
       "      <td>-0</td>\n",
       "      <td>-0</td>\n",
       "      <td>-0</td>\n",
       "      <td>-0</td>\n",
       "      <td>-0</td>\n",
       "      <td>-0</td>\n",
       "      <td>-0</td>\n",
       "      <td>-0</td>\n",
       "      <td>-0</td>\n",
       "      <td>-0</td>\n",
       "      <td>-0</td>\n",
       "      <td>-0</td>\n",
       "      <td>-0</td>\n",
       "      <td>-0</td>\n",
       "    </tr>\n",
       "  </tbody>\n",
       "</table>\n",
       "</div>"
      ],
      "text/plain": [
       "             mrss_train mrss_test intercept  ... coef_Var_13 coef_Var_14 coef_Var_15\n",
       "alpha_0           0.016       0.2       -25  ...       0.086     -0.0039     7.9e-05\n",
       "alpha_1e-10        0.02     0.027    -0.054  ...    -3.4e-11    -6.3e-12    -1.1e-12\n",
       "alpha_1e-08        0.02     0.027    -0.054  ...    -3.4e-11    -6.3e-12    -1.1e-12\n",
       "alpha_1e-05        0.02     0.027    -0.041  ...    -3.8e-11      -7e-12    -1.2e-12\n",
       "alpha_0.0001      0.022     0.027     0.071  ...          -0    -2.8e-12    -2.6e-12\n",
       "alpha_0.001        0.08     0.072      0.81  ...           0           0           0\n",
       "alpha_0.01         0.18      0.17      0.89  ...           0           0     8.1e-13\n",
       "alpha_1            0.55      0.56    -0.003  ...          -0          -0          -0\n",
       "alpha_5            0.55      0.56    -0.003  ...          -0          -0          -0\n",
       "alpha_10           0.55      0.56    -0.003  ...          -0          -0          -0\n",
       "\n",
       "[10 rows x 18 columns]"
      ]
     },
     "execution_count": 39,
     "metadata": {
      "tags": []
     },
     "output_type": "execute_result"
    }
   ],
   "source": [
    "#Set the display format to be scientific for ease of analysis\n",
    "pd.options.display.float_format = '{:,.2g}'.format\n",
    "coef_matrix_lasso"
   ]
  },
  {
   "cell_type": "code",
   "execution_count": 40,
   "metadata": {
    "colab": {
     "base_uri": "https://localhost:8080/",
     "height": 301
    },
    "colab_type": "code",
    "executionInfo": {
     "elapsed": 9374,
     "status": "ok",
     "timestamp": 1560001054653,
     "user": {
      "displayName": "Sharoon Saxena",
      "photoUrl": "",
      "userId": "14774175216384036942"
     },
     "user_tz": -330
    },
    "id": "6heaVHSSIfPl",
    "outputId": "02bb0b1d-2300-4f62-fff7-42586bfa4c00"
   },
   "outputs": [
    {
     "data": {
      "text/plain": [
       "<matplotlib.legend.Legend at 0x7fcb581a5cf8>"
      ]
     },
     "execution_count": 40,
     "metadata": {
      "tags": []
     },
     "output_type": "execute_result"
    },
    {
     "data": {
      "image/png": "[encoded data removed]",
      "text/plain": [
       "<Figure size 432x288 with 1 Axes>"
      ]
     },
     "metadata": {
      "tags": []
     },
     "output_type": "display_data"
    }
   ],
   "source": [
    "coef_matrix_lasso[['mrss_train','mrss_test']].plot()\n",
    "plt.xlabel('Alpha Values')\n",
    "plt.ylabel('MRSS')\n",
    "plt.legend(['train', 'test'])"
   ]
  },
  {
   "cell_type": "code",
   "execution_count": 41,
   "metadata": {
    "colab": {
     "base_uri": "https://localhost:8080/",
     "height": 204
    },
    "colab_type": "code",
    "executionInfo": {
     "elapsed": 9363,
     "status": "ok",
     "timestamp": 1560001054654,
     "user": {
      "displayName": "Sharoon Saxena",
      "photoUrl": "",
      "userId": "14774175216384036942"
     },
     "user_tz": -330
    },
    "id": "cm8QARSvIfPr",
    "outputId": "34176754-e88f-4b80-ba66-5cdbd3759753"
   },
   "outputs": [
    {
     "data": {
      "text/plain": [
       "alpha_0          0\n",
       "alpha_1e-10      0\n",
       "alpha_1e-08      0\n",
       "alpha_1e-05      2\n",
       "alpha_0.0001     7\n",
       "alpha_0.001     11\n",
       "alpha_0.01      12\n",
       "alpha_1         15\n",
       "alpha_5         15\n",
       "alpha_10        15\n",
       "dtype: int64"
      ]
     },
     "execution_count": 41,
     "metadata": {
      "tags": []
     },
     "output_type": "execute_result"
    }
   ],
   "source": [
    "coef_matrix_lasso.apply(lambda x: sum(x.values==0),axis=1)"
   ]
  },
  {
   "cell_type": "code",
   "execution_count": 0,
   "metadata": {
    "colab": {},
    "colab_type": "code",
    "id": "Dr88NE3kIfPv"
   },
   "outputs": [],
   "source": []
  }
 ],
 "metadata": {
  "colab": {
   "name": "Ridge and Lasso Implementation.ipynb",
   "provenance": [],
   "version": "0.3.2"
  },
  "kernelspec": {
   "display_name": "Python 3",
   "language": "python",
   "name": "python3"
  },
  "language_info": {
   "codemirror_mode": {
    "name": "ipython",
    "version": 3
   },
   "file_extension": ".py",
   "mimetype": "text/x-python",
   "name": "python",
   "nbconvert_exporter": "python",
   "pygments_lexer": "ipython3",
   "version": "3.6.5"
  }
 },
 "nbformat": 4,
 "nbformat_minor": 1
}
